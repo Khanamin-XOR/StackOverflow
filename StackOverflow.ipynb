{
 "cells": [
  {
   "cell_type": "markdown",
   "metadata": {
    "id": "aYtyZsQqyX13"
   },
   "source": [
    "Using EDA, help Stack Overflow implement the following features in its web application: \n",
    "\n",
    "When a user raises a question with a data science tag ('python', 'r', 'matlab', 'sas', 'excel', 'sql'), then Stack Overflow sends the notification to the relevant users.\n",
    "\n",
    "When a user provides a data science tag ('python', 'r', 'matlab', 'sas', 'excel', 'sql') to their question, then Stack Overflow should come up with the expected approximate time to get it answered.\n",
    "\n",
    "While a user raises a question, Stack Overflow wants to provide some suggestions to the users to get their queries answered quickly."
   ]
  },
  {
   "cell_type": "code",
   "execution_count": 159,
   "metadata": {
    "id": "HLa-6TXTyD3O"
   },
   "outputs": [],
   "source": [
    "\n",
    "import pandas as pd\n",
    "import numpy as np\n",
    "import matplotlib.pyplot as plt\n",
    "import seaborn as sns"
   ]
  },
  {
   "cell_type": "code",
   "execution_count": 2,
   "metadata": {
    "id": "NnB8-KcQyFn4"
   },
   "outputs": [],
   "source": [
    "questions = pd.read_csv(\"https://stack-overflow-casestudy-datasets.s3.amazonaws.com/Questions.csv\",encoding=\"ISO-8859-1\") \n",
    "answers = pd.read_csv(\"https://stack-overflow-casestudy-datasets.s3.amazonaws.com/Answers.csv\",encoding=\"ISO-8859-1\")\n",
    "tags = pd.read_csv(\"https://stack-overflow-casestudy-datasets.s3.amazonaws.com/Tags.csv\",encoding=\"ISO-8859-1\",dtype={'Tag': str})\n",
    "users = pd.read_csv(\"https://stack-overflow-casestudy-datasets.s3.amazonaws.com/Users.csv\",encoding=\"ISO-8859-1\")"
   ]
  },
  {
   "cell_type": "code",
   "execution_count": 3,
   "metadata": {
    "colab": {
     "base_uri": "https://localhost:8080/",
     "height": 195
    },
    "id": "Z-RG3wsmyHyA",
    "outputId": "25d2ac5e-ef25-49f1-af0a-41b72616a6d1"
   },
   "outputs": [
    {
     "data": {
      "text/html": [
       "<div>\n",
       "<style scoped>\n",
       "    .dataframe tbody tr th:only-of-type {\n",
       "        vertical-align: middle;\n",
       "    }\n",
       "\n",
       "    .dataframe tbody tr th {\n",
       "        vertical-align: top;\n",
       "    }\n",
       "\n",
       "    .dataframe thead th {\n",
       "        text-align: right;\n",
       "    }\n",
       "</style>\n",
       "<table border=\"1\" class=\"dataframe\">\n",
       "  <thead>\n",
       "    <tr style=\"text-align: right;\">\n",
       "      <th></th>\n",
       "      <th>Id</th>\n",
       "      <th>OwnerUserId</th>\n",
       "      <th>CreationDate</th>\n",
       "      <th>ClosedDate</th>\n",
       "      <th>Score</th>\n",
       "      <th>Title</th>\n",
       "      <th>Body</th>\n",
       "    </tr>\n",
       "  </thead>\n",
       "  <tbody>\n",
       "    <tr>\n",
       "      <th>0</th>\n",
       "      <td>80</td>\n",
       "      <td>26.0</td>\n",
       "      <td>2008-08-01T13:57:07Z</td>\n",
       "      <td>NaN</td>\n",
       "      <td>26</td>\n",
       "      <td>SQLStatement.execute() - multiple queries in o...</td>\n",
       "      <td>&lt;p&gt;I've written a database generation script i...</td>\n",
       "    </tr>\n",
       "    <tr>\n",
       "      <th>1</th>\n",
       "      <td>90</td>\n",
       "      <td>58.0</td>\n",
       "      <td>2008-08-01T14:41:24Z</td>\n",
       "      <td>2012-12-26T03:45:49Z</td>\n",
       "      <td>144</td>\n",
       "      <td>Good branching and merging tutorials for Torto...</td>\n",
       "      <td>&lt;p&gt;Are there any really good tutorials explain...</td>\n",
       "    </tr>\n",
       "    <tr>\n",
       "      <th>2</th>\n",
       "      <td>120</td>\n",
       "      <td>83.0</td>\n",
       "      <td>2008-08-01T15:50:08Z</td>\n",
       "      <td>NaN</td>\n",
       "      <td>21</td>\n",
       "      <td>ASP.NET Site Maps</td>\n",
       "      <td>&lt;p&gt;Has anyone got experience creating &lt;strong&gt;...</td>\n",
       "    </tr>\n",
       "    <tr>\n",
       "      <th>3</th>\n",
       "      <td>180</td>\n",
       "      <td>2089740.0</td>\n",
       "      <td>2008-08-01T18:42:19Z</td>\n",
       "      <td>NaN</td>\n",
       "      <td>53</td>\n",
       "      <td>Function for creating color wheels</td>\n",
       "      <td>&lt;p&gt;This is something I've pseudo-solved many t...</td>\n",
       "    </tr>\n",
       "    <tr>\n",
       "      <th>4</th>\n",
       "      <td>260</td>\n",
       "      <td>91.0</td>\n",
       "      <td>2008-08-01T23:22:08Z</td>\n",
       "      <td>NaN</td>\n",
       "      <td>49</td>\n",
       "      <td>Adding scripting functionality to .NET applica...</td>\n",
       "      <td>&lt;p&gt;I have a little game written in C#. It uses...</td>\n",
       "    </tr>\n",
       "  </tbody>\n",
       "</table>\n",
       "</div>"
      ],
      "text/plain": [
       "    Id  ...                                               Body\n",
       "0   80  ...  <p>I've written a database generation script i...\n",
       "1   90  ...  <p>Are there any really good tutorials explain...\n",
       "2  120  ...  <p>Has anyone got experience creating <strong>...\n",
       "3  180  ...  <p>This is something I've pseudo-solved many t...\n",
       "4  260  ...  <p>I have a little game written in C#. It uses...\n",
       "\n",
       "[5 rows x 7 columns]"
      ]
     },
     "execution_count": 3,
     "metadata": {
      "tags": []
     },
     "output_type": "execute_result"
    }
   ],
   "source": [
    "questions.head()"
   ]
  },
  {
   "cell_type": "code",
   "execution_count": 4,
   "metadata": {
    "colab": {
     "base_uri": "https://localhost:8080/",
     "height": 195
    },
    "id": "Ty8Pwj8w2sYe",
    "outputId": "69c08398-7d4a-4370-b494-a7a0081b3338"
   },
   "outputs": [
    {
     "data": {
      "text/html": [
       "<div>\n",
       "<style scoped>\n",
       "    .dataframe tbody tr th:only-of-type {\n",
       "        vertical-align: middle;\n",
       "    }\n",
       "\n",
       "    .dataframe tbody tr th {\n",
       "        vertical-align: top;\n",
       "    }\n",
       "\n",
       "    .dataframe thead th {\n",
       "        text-align: right;\n",
       "    }\n",
       "</style>\n",
       "<table border=\"1\" class=\"dataframe\">\n",
       "  <thead>\n",
       "    <tr style=\"text-align: right;\">\n",
       "      <th></th>\n",
       "      <th>Id</th>\n",
       "      <th>Tag</th>\n",
       "    </tr>\n",
       "  </thead>\n",
       "  <tbody>\n",
       "    <tr>\n",
       "      <th>0</th>\n",
       "      <td>80</td>\n",
       "      <td>flex</td>\n",
       "    </tr>\n",
       "    <tr>\n",
       "      <th>1</th>\n",
       "      <td>80</td>\n",
       "      <td>actionscript-3</td>\n",
       "    </tr>\n",
       "    <tr>\n",
       "      <th>2</th>\n",
       "      <td>80</td>\n",
       "      <td>air</td>\n",
       "    </tr>\n",
       "    <tr>\n",
       "      <th>3</th>\n",
       "      <td>90</td>\n",
       "      <td>svn</td>\n",
       "    </tr>\n",
       "    <tr>\n",
       "      <th>4</th>\n",
       "      <td>90</td>\n",
       "      <td>tortoisesvn</td>\n",
       "    </tr>\n",
       "  </tbody>\n",
       "</table>\n",
       "</div>"
      ],
      "text/plain": [
       "   Id             Tag\n",
       "0  80            flex\n",
       "1  80  actionscript-3\n",
       "2  80             air\n",
       "3  90             svn\n",
       "4  90     tortoisesvn"
      ]
     },
     "execution_count": 4,
     "metadata": {
      "tags": []
     },
     "output_type": "execute_result"
    }
   ],
   "source": [
    "tags.head()\n"
   ]
  },
  {
   "cell_type": "code",
   "execution_count": 5,
   "metadata": {
    "colab": {
     "base_uri": "https://localhost:8080/"
    },
    "id": "4PnN3xhK2tV6",
    "outputId": "a3cc8a45-6dea-41ad-e7b3-dce7f1cc8bf1"
   },
   "outputs": [
    {
     "name": "stdout",
     "output_type": "stream",
     "text": [
      "<class 'pandas.core.frame.DataFrame'>\n",
      "RangeIndex: 3750994 entries, 0 to 3750993\n",
      "Data columns (total 2 columns):\n",
      " #   Column  Dtype \n",
      "---  ------  ----- \n",
      " 0   Id      int64 \n",
      " 1   Tag     object\n",
      "dtypes: int64(1), object(1)\n",
      "memory usage: 57.2+ MB\n"
     ]
    }
   ],
   "source": [
    "tags.info()"
   ]
  },
  {
   "cell_type": "code",
   "execution_count": 6,
   "metadata": {
    "id": "UoKFcgfxLEce"
   },
   "outputs": [],
   "source": [
    "tags = tags.loc[(tags[\"Tag\"] == \"python\") | (tags[\"Tag\"] == \"r\")| (tags[\"Tag\"] == \"matlab\") | (tags[\"Tag\"] == \"sql\") | (tags[\"Tag\"] == \"sas\") | (tags[\"Tag\"] == \"excel\")]"
   ]
  },
  {
   "cell_type": "code",
   "execution_count": 7,
   "metadata": {
    "id": "MoTsJ9aDLPdO"
   },
   "outputs": [],
   "source": [
    "tags['Tag'] = tags['Tag'].astype(str)\n"
   ]
  },
  {
   "cell_type": "code",
   "execution_count": 8,
   "metadata": {
    "id": "nFW27Xa822Kx"
   },
   "outputs": [],
   "source": [
    "grouped_tags = tags.groupby(\"Id\")['Tag'].apply(lambda tags: ' '.join(tags))\n"
   ]
  },
  {
   "cell_type": "code",
   "execution_count": 9,
   "metadata": {
    "colab": {
     "base_uri": "https://localhost:8080/"
    },
    "id": "Yj0xvoOQ286Q",
    "outputId": "066e2f87-ef35-49d9-ad3a-74895c093cef"
   },
   "outputs": [
    {
     "data": {
      "text/plain": [
       "Id\n",
       "120     sql\n",
       "1970    sql\n",
       "2120    sql\n",
       "2840    sql\n",
       "4110    sql\n",
       "Name: Tag, dtype: object"
      ]
     },
     "execution_count": 9,
     "metadata": {
      "tags": []
     },
     "output_type": "execute_result"
    }
   ],
   "source": [
    "grouped_tags.head()"
   ]
  },
  {
   "cell_type": "code",
   "execution_count": 10,
   "metadata": {
    "colab": {
     "base_uri": "https://localhost:8080/",
     "height": 402
    },
    "id": "mAQrEVQD3EZX",
    "outputId": "c9c91eaf-4cbc-429f-98de-7ac190ca9e2e"
   },
   "outputs": [
    {
     "data": {
      "text/html": [
       "<div>\n",
       "<style scoped>\n",
       "    .dataframe tbody tr th:only-of-type {\n",
       "        vertical-align: middle;\n",
       "    }\n",
       "\n",
       "    .dataframe tbody tr th {\n",
       "        vertical-align: top;\n",
       "    }\n",
       "\n",
       "    .dataframe thead th {\n",
       "        text-align: right;\n",
       "    }\n",
       "</style>\n",
       "<table border=\"1\" class=\"dataframe\">\n",
       "  <thead>\n",
       "    <tr style=\"text-align: right;\">\n",
       "      <th></th>\n",
       "      <th>Id</th>\n",
       "      <th>Tag</th>\n",
       "    </tr>\n",
       "  </thead>\n",
       "  <tbody>\n",
       "    <tr>\n",
       "      <th>0</th>\n",
       "      <td>120</td>\n",
       "      <td>sql</td>\n",
       "    </tr>\n",
       "    <tr>\n",
       "      <th>1</th>\n",
       "      <td>1970</td>\n",
       "      <td>sql</td>\n",
       "    </tr>\n",
       "    <tr>\n",
       "      <th>2</th>\n",
       "      <td>2120</td>\n",
       "      <td>sql</td>\n",
       "    </tr>\n",
       "    <tr>\n",
       "      <th>3</th>\n",
       "      <td>2840</td>\n",
       "      <td>sql</td>\n",
       "    </tr>\n",
       "    <tr>\n",
       "      <th>4</th>\n",
       "      <td>4110</td>\n",
       "      <td>sql</td>\n",
       "    </tr>\n",
       "    <tr>\n",
       "      <th>...</th>\n",
       "      <td>...</td>\n",
       "      <td>...</td>\n",
       "    </tr>\n",
       "    <tr>\n",
       "      <th>132070</th>\n",
       "      <td>40142550</td>\n",
       "      <td>sql</td>\n",
       "    </tr>\n",
       "    <tr>\n",
       "      <th>132071</th>\n",
       "      <td>40142600</td>\n",
       "      <td>python</td>\n",
       "    </tr>\n",
       "    <tr>\n",
       "      <th>132072</th>\n",
       "      <td>40142840</td>\n",
       "      <td>python</td>\n",
       "    </tr>\n",
       "    <tr>\n",
       "      <th>132073</th>\n",
       "      <td>40142860</td>\n",
       "      <td>excel</td>\n",
       "    </tr>\n",
       "    <tr>\n",
       "      <th>132074</th>\n",
       "      <td>40143190</td>\n",
       "      <td>python</td>\n",
       "    </tr>\n",
       "  </tbody>\n",
       "</table>\n",
       "<p>132075 rows × 2 columns</p>\n",
       "</div>"
      ],
      "text/plain": [
       "              Id     Tag\n",
       "0            120     sql\n",
       "1           1970     sql\n",
       "2           2120     sql\n",
       "3           2840     sql\n",
       "4           4110     sql\n",
       "...          ...     ...\n",
       "132070  40142550     sql\n",
       "132071  40142600  python\n",
       "132072  40142840  python\n",
       "132073  40142860   excel\n",
       "132074  40143190  python\n",
       "\n",
       "[132075 rows x 2 columns]"
      ]
     },
     "execution_count": 10,
     "metadata": {
      "tags": []
     },
     "output_type": "execute_result"
    }
   ],
   "source": [
    "grouped_tags.reset_index()"
   ]
  },
  {
   "cell_type": "code",
   "execution_count": 11,
   "metadata": {
    "id": "0RQ9Puz43NNf"
   },
   "outputs": [],
   "source": [
    "grouped_tags_final = pd.DataFrame({'Id':grouped_tags.index, 'Tags':grouped_tags.values})"
   ]
  },
  {
   "cell_type": "code",
   "execution_count": 12,
   "metadata": {
    "colab": {
     "base_uri": "https://localhost:8080/",
     "height": 195
    },
    "id": "klunjiUx3xnR",
    "outputId": "eced55fc-af3a-4128-b7ee-3434b3704a88"
   },
   "outputs": [
    {
     "data": {
      "text/html": [
       "<div>\n",
       "<style scoped>\n",
       "    .dataframe tbody tr th:only-of-type {\n",
       "        vertical-align: middle;\n",
       "    }\n",
       "\n",
       "    .dataframe tbody tr th {\n",
       "        vertical-align: top;\n",
       "    }\n",
       "\n",
       "    .dataframe thead th {\n",
       "        text-align: right;\n",
       "    }\n",
       "</style>\n",
       "<table border=\"1\" class=\"dataframe\">\n",
       "  <thead>\n",
       "    <tr style=\"text-align: right;\">\n",
       "      <th></th>\n",
       "      <th>Id</th>\n",
       "      <th>Tags</th>\n",
       "    </tr>\n",
       "  </thead>\n",
       "  <tbody>\n",
       "    <tr>\n",
       "      <th>0</th>\n",
       "      <td>120</td>\n",
       "      <td>sql</td>\n",
       "    </tr>\n",
       "    <tr>\n",
       "      <th>1</th>\n",
       "      <td>1970</td>\n",
       "      <td>sql</td>\n",
       "    </tr>\n",
       "    <tr>\n",
       "      <th>2</th>\n",
       "      <td>2120</td>\n",
       "      <td>sql</td>\n",
       "    </tr>\n",
       "    <tr>\n",
       "      <th>3</th>\n",
       "      <td>2840</td>\n",
       "      <td>sql</td>\n",
       "    </tr>\n",
       "    <tr>\n",
       "      <th>4</th>\n",
       "      <td>4110</td>\n",
       "      <td>sql</td>\n",
       "    </tr>\n",
       "  </tbody>\n",
       "</table>\n",
       "</div>"
      ],
      "text/plain": [
       "     Id Tags\n",
       "0   120  sql\n",
       "1  1970  sql\n",
       "2  2120  sql\n",
       "3  2840  sql\n",
       "4  4110  sql"
      ]
     },
     "execution_count": 12,
     "metadata": {
      "tags": []
     },
     "output_type": "execute_result"
    }
   ],
   "source": [
    "grouped_tags_final.head(5)"
   ]
  },
  {
   "cell_type": "code",
   "execution_count": 13,
   "metadata": {
    "id": "qaJx49jr3zji"
   },
   "outputs": [],
   "source": [
    "df = questions.merge(grouped_tags_final, on='Id')"
   ]
  },
  {
   "cell_type": "code",
   "execution_count": 14,
   "metadata": {
    "colab": {
     "base_uri": "https://localhost:8080/",
     "height": 195
    },
    "id": "Nvo8PrUH4A2j",
    "outputId": "0a4e0184-2565-4855-fba5-a7cff63b1c99"
   },
   "outputs": [
    {
     "data": {
      "text/html": [
       "<div>\n",
       "<style scoped>\n",
       "    .dataframe tbody tr th:only-of-type {\n",
       "        vertical-align: middle;\n",
       "    }\n",
       "\n",
       "    .dataframe tbody tr th {\n",
       "        vertical-align: top;\n",
       "    }\n",
       "\n",
       "    .dataframe thead th {\n",
       "        text-align: right;\n",
       "    }\n",
       "</style>\n",
       "<table border=\"1\" class=\"dataframe\">\n",
       "  <thead>\n",
       "    <tr style=\"text-align: right;\">\n",
       "      <th></th>\n",
       "      <th>Id</th>\n",
       "      <th>OwnerUserId</th>\n",
       "      <th>CreationDate</th>\n",
       "      <th>ClosedDate</th>\n",
       "      <th>Score</th>\n",
       "      <th>Title</th>\n",
       "      <th>Body</th>\n",
       "      <th>Tags</th>\n",
       "    </tr>\n",
       "  </thead>\n",
       "  <tbody>\n",
       "    <tr>\n",
       "      <th>0</th>\n",
       "      <td>120</td>\n",
       "      <td>83.0</td>\n",
       "      <td>2008-08-01T15:50:08Z</td>\n",
       "      <td>NaN</td>\n",
       "      <td>21</td>\n",
       "      <td>ASP.NET Site Maps</td>\n",
       "      <td>&lt;p&gt;Has anyone got experience creating &lt;strong&gt;...</td>\n",
       "      <td>sql</td>\n",
       "    </tr>\n",
       "    <tr>\n",
       "      <th>1</th>\n",
       "      <td>1970</td>\n",
       "      <td>116.0</td>\n",
       "      <td>2008-08-05T06:39:31Z</td>\n",
       "      <td>NaN</td>\n",
       "      <td>10</td>\n",
       "      <td>What language do you use for PostgreSQL trigge...</td>\n",
       "      <td>&lt;p&gt;PostgreSQL is interesting in that it suppor...</td>\n",
       "      <td>sql</td>\n",
       "    </tr>\n",
       "    <tr>\n",
       "      <th>2</th>\n",
       "      <td>2120</td>\n",
       "      <td>383.0</td>\n",
       "      <td>2008-08-05T11:49:11Z</td>\n",
       "      <td>NaN</td>\n",
       "      <td>77</td>\n",
       "      <td>Convert HashBytes to VarChar</td>\n",
       "      <td>&lt;p&gt;I want to get the MD5 Hash of a string valu...</td>\n",
       "      <td>sql</td>\n",
       "    </tr>\n",
       "    <tr>\n",
       "      <th>3</th>\n",
       "      <td>2840</td>\n",
       "      <td>383.0</td>\n",
       "      <td>2008-08-05T20:57:00Z</td>\n",
       "      <td>NaN</td>\n",
       "      <td>32</td>\n",
       "      <td>Paging SQL Server 2005 Results</td>\n",
       "      <td>&lt;p&gt;How do I page results in SQL Server 2005?&lt;/...</td>\n",
       "      <td>sql</td>\n",
       "    </tr>\n",
       "    <tr>\n",
       "      <th>4</th>\n",
       "      <td>4110</td>\n",
       "      <td>369.0</td>\n",
       "      <td>2008-08-06T23:19:50Z</td>\n",
       "      <td>2014-12-30T11:43:01Z</td>\n",
       "      <td>7</td>\n",
       "      <td>What program can I use to generate diagrams of...</td>\n",
       "      <td>&lt;p&gt;I've been tasked with redesigning part of a...</td>\n",
       "      <td>sql</td>\n",
       "    </tr>\n",
       "  </tbody>\n",
       "</table>\n",
       "</div>"
      ],
      "text/plain": [
       "     Id  OwnerUserId  ...                                               Body Tags\n",
       "0   120         83.0  ...  <p>Has anyone got experience creating <strong>...  sql\n",
       "1  1970        116.0  ...  <p>PostgreSQL is interesting in that it suppor...  sql\n",
       "2  2120        383.0  ...  <p>I want to get the MD5 Hash of a string valu...  sql\n",
       "3  2840        383.0  ...  <p>How do I page results in SQL Server 2005?</...  sql\n",
       "4  4110        369.0  ...  <p>I've been tasked with redesigning part of a...  sql\n",
       "\n",
       "[5 rows x 8 columns]"
      ]
     },
     "execution_count": 14,
     "metadata": {
      "tags": []
     },
     "output_type": "execute_result"
    }
   ],
   "source": [
    "df.head()"
   ]
  },
  {
   "cell_type": "code",
   "execution_count": 15,
   "metadata": {
    "id": "qN6oNzjx4Cos"
   },
   "outputs": [],
   "source": [
    "df.rename(columns={\"Id\":\"Q_ID\",\"OwnerUserId\":\"User_id_q\",\"CreationDate\":\"Q_CreationDate\",\"ClosedDate\":\"Q_ClosedDate\",\"Score\":\"Q_Score\",\n",
    "\"Title\":\"Q_Title\",\"Body\":\"Questions\"},inplace = True)"
   ]
  },
  {
   "cell_type": "code",
   "execution_count": 16,
   "metadata": {
    "colab": {
     "base_uri": "https://localhost:8080/",
     "height": 195
    },
    "id": "a1Xx21BK8GNt",
    "outputId": "db545d4b-d65c-4b82-c585-db8ee5dbcdc0"
   },
   "outputs": [
    {
     "data": {
      "text/html": [
       "<div>\n",
       "<style scoped>\n",
       "    .dataframe tbody tr th:only-of-type {\n",
       "        vertical-align: middle;\n",
       "    }\n",
       "\n",
       "    .dataframe tbody tr th {\n",
       "        vertical-align: top;\n",
       "    }\n",
       "\n",
       "    .dataframe thead th {\n",
       "        text-align: right;\n",
       "    }\n",
       "</style>\n",
       "<table border=\"1\" class=\"dataframe\">\n",
       "  <thead>\n",
       "    <tr style=\"text-align: right;\">\n",
       "      <th></th>\n",
       "      <th>Q_ID</th>\n",
       "      <th>User_id_q</th>\n",
       "      <th>Q_CreationDate</th>\n",
       "      <th>Q_ClosedDate</th>\n",
       "      <th>Q_Score</th>\n",
       "      <th>Q_Title</th>\n",
       "      <th>Questions</th>\n",
       "      <th>Tags</th>\n",
       "    </tr>\n",
       "  </thead>\n",
       "  <tbody>\n",
       "    <tr>\n",
       "      <th>0</th>\n",
       "      <td>120</td>\n",
       "      <td>83.0</td>\n",
       "      <td>2008-08-01T15:50:08Z</td>\n",
       "      <td>NaN</td>\n",
       "      <td>21</td>\n",
       "      <td>ASP.NET Site Maps</td>\n",
       "      <td>&lt;p&gt;Has anyone got experience creating &lt;strong&gt;...</td>\n",
       "      <td>sql</td>\n",
       "    </tr>\n",
       "    <tr>\n",
       "      <th>1</th>\n",
       "      <td>1970</td>\n",
       "      <td>116.0</td>\n",
       "      <td>2008-08-05T06:39:31Z</td>\n",
       "      <td>NaN</td>\n",
       "      <td>10</td>\n",
       "      <td>What language do you use for PostgreSQL trigge...</td>\n",
       "      <td>&lt;p&gt;PostgreSQL is interesting in that it suppor...</td>\n",
       "      <td>sql</td>\n",
       "    </tr>\n",
       "    <tr>\n",
       "      <th>2</th>\n",
       "      <td>2120</td>\n",
       "      <td>383.0</td>\n",
       "      <td>2008-08-05T11:49:11Z</td>\n",
       "      <td>NaN</td>\n",
       "      <td>77</td>\n",
       "      <td>Convert HashBytes to VarChar</td>\n",
       "      <td>&lt;p&gt;I want to get the MD5 Hash of a string valu...</td>\n",
       "      <td>sql</td>\n",
       "    </tr>\n",
       "    <tr>\n",
       "      <th>3</th>\n",
       "      <td>2840</td>\n",
       "      <td>383.0</td>\n",
       "      <td>2008-08-05T20:57:00Z</td>\n",
       "      <td>NaN</td>\n",
       "      <td>32</td>\n",
       "      <td>Paging SQL Server 2005 Results</td>\n",
       "      <td>&lt;p&gt;How do I page results in SQL Server 2005?&lt;/...</td>\n",
       "      <td>sql</td>\n",
       "    </tr>\n",
       "    <tr>\n",
       "      <th>4</th>\n",
       "      <td>4110</td>\n",
       "      <td>369.0</td>\n",
       "      <td>2008-08-06T23:19:50Z</td>\n",
       "      <td>2014-12-30T11:43:01Z</td>\n",
       "      <td>7</td>\n",
       "      <td>What program can I use to generate diagrams of...</td>\n",
       "      <td>&lt;p&gt;I've been tasked with redesigning part of a...</td>\n",
       "      <td>sql</td>\n",
       "    </tr>\n",
       "  </tbody>\n",
       "</table>\n",
       "</div>"
      ],
      "text/plain": [
       "   Q_ID  User_id_q  ...                                          Questions Tags\n",
       "0   120       83.0  ...  <p>Has anyone got experience creating <strong>...  sql\n",
       "1  1970      116.0  ...  <p>PostgreSQL is interesting in that it suppor...  sql\n",
       "2  2120      383.0  ...  <p>I want to get the MD5 Hash of a string valu...  sql\n",
       "3  2840      383.0  ...  <p>How do I page results in SQL Server 2005?</...  sql\n",
       "4  4110      369.0  ...  <p>I've been tasked with redesigning part of a...  sql\n",
       "\n",
       "[5 rows x 8 columns]"
      ]
     },
     "execution_count": 16,
     "metadata": {
      "tags": []
     },
     "output_type": "execute_result"
    }
   ],
   "source": [
    "df.head()"
   ]
  },
  {
   "cell_type": "code",
   "execution_count": 17,
   "metadata": {
    "colab": {
     "base_uri": "https://localhost:8080/",
     "height": 195
    },
    "id": "fCnA_mhc_B29",
    "outputId": "35d7bf4d-bb8d-4d0b-c7a2-714eff32330e"
   },
   "outputs": [
    {
     "data": {
      "text/html": [
       "<div>\n",
       "<style scoped>\n",
       "    .dataframe tbody tr th:only-of-type {\n",
       "        vertical-align: middle;\n",
       "    }\n",
       "\n",
       "    .dataframe tbody tr th {\n",
       "        vertical-align: top;\n",
       "    }\n",
       "\n",
       "    .dataframe thead th {\n",
       "        text-align: right;\n",
       "    }\n",
       "</style>\n",
       "<table border=\"1\" class=\"dataframe\">\n",
       "  <thead>\n",
       "    <tr style=\"text-align: right;\">\n",
       "      <th></th>\n",
       "      <th>Id</th>\n",
       "      <th>OwnerUserId</th>\n",
       "      <th>CreationDate</th>\n",
       "      <th>ParentId</th>\n",
       "      <th>Score</th>\n",
       "      <th>Body</th>\n",
       "    </tr>\n",
       "  </thead>\n",
       "  <tbody>\n",
       "    <tr>\n",
       "      <th>0</th>\n",
       "      <td>92</td>\n",
       "      <td>61.0</td>\n",
       "      <td>2008-08-01T14:45:37Z</td>\n",
       "      <td>90</td>\n",
       "      <td>13</td>\n",
       "      <td>&lt;p&gt;&lt;a href=\"http://svnbook.red-bean.com/\"&gt;Vers...</td>\n",
       "    </tr>\n",
       "    <tr>\n",
       "      <th>1</th>\n",
       "      <td>124</td>\n",
       "      <td>26.0</td>\n",
       "      <td>2008-08-01T16:09:47Z</td>\n",
       "      <td>80</td>\n",
       "      <td>12</td>\n",
       "      <td>&lt;p&gt;I wound up using this. It is a kind of a ha...</td>\n",
       "    </tr>\n",
       "    <tr>\n",
       "      <th>2</th>\n",
       "      <td>199</td>\n",
       "      <td>50.0</td>\n",
       "      <td>2008-08-01T19:36:46Z</td>\n",
       "      <td>180</td>\n",
       "      <td>1</td>\n",
       "      <td>&lt;p&gt;I've read somewhere the human eye can't dis...</td>\n",
       "    </tr>\n",
       "    <tr>\n",
       "      <th>3</th>\n",
       "      <td>269</td>\n",
       "      <td>91.0</td>\n",
       "      <td>2008-08-01T23:49:57Z</td>\n",
       "      <td>260</td>\n",
       "      <td>4</td>\n",
       "      <td>&lt;p&gt;Yes, I thought about that, but I soon figur...</td>\n",
       "    </tr>\n",
       "    <tr>\n",
       "      <th>4</th>\n",
       "      <td>307</td>\n",
       "      <td>49.0</td>\n",
       "      <td>2008-08-02T01:49:46Z</td>\n",
       "      <td>260</td>\n",
       "      <td>28</td>\n",
       "      <td>&lt;p&gt;&lt;a href=\"http://www.codeproject.com/Article...</td>\n",
       "    </tr>\n",
       "  </tbody>\n",
       "</table>\n",
       "</div>"
      ],
      "text/plain": [
       "    Id  OwnerUserId  ... Score                                               Body\n",
       "0   92         61.0  ...    13  <p><a href=\"http://svnbook.red-bean.com/\">Vers...\n",
       "1  124         26.0  ...    12  <p>I wound up using this. It is a kind of a ha...\n",
       "2  199         50.0  ...     1  <p>I've read somewhere the human eye can't dis...\n",
       "3  269         91.0  ...     4  <p>Yes, I thought about that, but I soon figur...\n",
       "4  307         49.0  ...    28  <p><a href=\"http://www.codeproject.com/Article...\n",
       "\n",
       "[5 rows x 6 columns]"
      ]
     },
     "execution_count": 17,
     "metadata": {
      "tags": []
     },
     "output_type": "execute_result"
    }
   ],
   "source": [
    "answers.head()"
   ]
  },
  {
   "cell_type": "code",
   "execution_count": 18,
   "metadata": {
    "id": "tOSDUjkz_Pdy"
   },
   "outputs": [],
   "source": [
    "df1 = answers"
   ]
  },
  {
   "cell_type": "code",
   "execution_count": 19,
   "metadata": {
    "id": "pUT5fbKU_J8F"
   },
   "outputs": [],
   "source": [
    "df1.rename(columns={\"Id\":\"A_ID\",\"OwnerUserId\":\"User_id_a\",\"CreationDate\":\"A_CreationDate\",\"ParentId\":\"Q_ID\",\"Score\":\"A_Score\",\n",
    "\"Body\":\"Answers\"},inplace = True)"
   ]
  },
  {
   "cell_type": "code",
   "execution_count": 20,
   "metadata": {
    "colab": {
     "base_uri": "https://localhost:8080/",
     "height": 195
    },
    "id": "cKRflltT_pM6",
    "outputId": "2da3e4e1-e52a-4143-c63c-b739cd18f7ff"
   },
   "outputs": [
    {
     "data": {
      "text/html": [
       "<div>\n",
       "<style scoped>\n",
       "    .dataframe tbody tr th:only-of-type {\n",
       "        vertical-align: middle;\n",
       "    }\n",
       "\n",
       "    .dataframe tbody tr th {\n",
       "        vertical-align: top;\n",
       "    }\n",
       "\n",
       "    .dataframe thead th {\n",
       "        text-align: right;\n",
       "    }\n",
       "</style>\n",
       "<table border=\"1\" class=\"dataframe\">\n",
       "  <thead>\n",
       "    <tr style=\"text-align: right;\">\n",
       "      <th></th>\n",
       "      <th>A_ID</th>\n",
       "      <th>User_id_a</th>\n",
       "      <th>A_CreationDate</th>\n",
       "      <th>Q_ID</th>\n",
       "      <th>A_Score</th>\n",
       "      <th>Answers</th>\n",
       "    </tr>\n",
       "  </thead>\n",
       "  <tbody>\n",
       "    <tr>\n",
       "      <th>0</th>\n",
       "      <td>92</td>\n",
       "      <td>61.0</td>\n",
       "      <td>2008-08-01T14:45:37Z</td>\n",
       "      <td>90</td>\n",
       "      <td>13</td>\n",
       "      <td>&lt;p&gt;&lt;a href=\"http://svnbook.red-bean.com/\"&gt;Vers...</td>\n",
       "    </tr>\n",
       "    <tr>\n",
       "      <th>1</th>\n",
       "      <td>124</td>\n",
       "      <td>26.0</td>\n",
       "      <td>2008-08-01T16:09:47Z</td>\n",
       "      <td>80</td>\n",
       "      <td>12</td>\n",
       "      <td>&lt;p&gt;I wound up using this. It is a kind of a ha...</td>\n",
       "    </tr>\n",
       "    <tr>\n",
       "      <th>2</th>\n",
       "      <td>199</td>\n",
       "      <td>50.0</td>\n",
       "      <td>2008-08-01T19:36:46Z</td>\n",
       "      <td>180</td>\n",
       "      <td>1</td>\n",
       "      <td>&lt;p&gt;I've read somewhere the human eye can't dis...</td>\n",
       "    </tr>\n",
       "    <tr>\n",
       "      <th>3</th>\n",
       "      <td>269</td>\n",
       "      <td>91.0</td>\n",
       "      <td>2008-08-01T23:49:57Z</td>\n",
       "      <td>260</td>\n",
       "      <td>4</td>\n",
       "      <td>&lt;p&gt;Yes, I thought about that, but I soon figur...</td>\n",
       "    </tr>\n",
       "    <tr>\n",
       "      <th>4</th>\n",
       "      <td>307</td>\n",
       "      <td>49.0</td>\n",
       "      <td>2008-08-02T01:49:46Z</td>\n",
       "      <td>260</td>\n",
       "      <td>28</td>\n",
       "      <td>&lt;p&gt;&lt;a href=\"http://www.codeproject.com/Article...</td>\n",
       "    </tr>\n",
       "  </tbody>\n",
       "</table>\n",
       "</div>"
      ],
      "text/plain": [
       "   A_ID  User_id_a  ... A_Score                                            Answers\n",
       "0    92       61.0  ...      13  <p><a href=\"http://svnbook.red-bean.com/\">Vers...\n",
       "1   124       26.0  ...      12  <p>I wound up using this. It is a kind of a ha...\n",
       "2   199       50.0  ...       1  <p>I've read somewhere the human eye can't dis...\n",
       "3   269       91.0  ...       4  <p>Yes, I thought about that, but I soon figur...\n",
       "4   307       49.0  ...      28  <p><a href=\"http://www.codeproject.com/Article...\n",
       "\n",
       "[5 rows x 6 columns]"
      ]
     },
     "execution_count": 20,
     "metadata": {
      "tags": []
     },
     "output_type": "execute_result"
    }
   ],
   "source": [
    "df1.head()"
   ]
  },
  {
   "cell_type": "code",
   "execution_count": 21,
   "metadata": {
    "id": "XiPgGGvm_qwM"
   },
   "outputs": [],
   "source": [
    "new = df.merge(df1,on=\"Q_ID\")"
   ]
  },
  {
   "cell_type": "code",
   "execution_count": 22,
   "metadata": {
    "colab": {
     "base_uri": "https://localhost:8080/",
     "height": 313
    },
    "id": "lM6dJSA1_1xS",
    "outputId": "ca053147-3af4-48aa-b2e4-24f50916f252"
   },
   "outputs": [
    {
     "data": {
      "text/html": [
       "<div>\n",
       "<style scoped>\n",
       "    .dataframe tbody tr th:only-of-type {\n",
       "        vertical-align: middle;\n",
       "    }\n",
       "\n",
       "    .dataframe tbody tr th {\n",
       "        vertical-align: top;\n",
       "    }\n",
       "\n",
       "    .dataframe thead th {\n",
       "        text-align: right;\n",
       "    }\n",
       "</style>\n",
       "<table border=\"1\" class=\"dataframe\">\n",
       "  <thead>\n",
       "    <tr style=\"text-align: right;\">\n",
       "      <th></th>\n",
       "      <th>Q_ID</th>\n",
       "      <th>User_id_q</th>\n",
       "      <th>Q_CreationDate</th>\n",
       "      <th>Q_ClosedDate</th>\n",
       "      <th>Q_Score</th>\n",
       "      <th>Q_Title</th>\n",
       "      <th>Questions</th>\n",
       "      <th>Tags</th>\n",
       "      <th>A_ID</th>\n",
       "      <th>User_id_a</th>\n",
       "      <th>A_CreationDate</th>\n",
       "      <th>A_Score</th>\n",
       "      <th>Answers</th>\n",
       "    </tr>\n",
       "  </thead>\n",
       "  <tbody>\n",
       "    <tr>\n",
       "      <th>0</th>\n",
       "      <td>120</td>\n",
       "      <td>83.0</td>\n",
       "      <td>2008-08-01T15:50:08Z</td>\n",
       "      <td>NaN</td>\n",
       "      <td>21</td>\n",
       "      <td>ASP.NET Site Maps</td>\n",
       "      <td>&lt;p&gt;Has anyone got experience creating &lt;strong&gt;...</td>\n",
       "      <td>sql</td>\n",
       "      <td>124363</td>\n",
       "      <td>12734.0</td>\n",
       "      <td>2008-09-23T22:41:11Z</td>\n",
       "      <td>9</td>\n",
       "      <td>&lt;p&gt;The Jeff Prosise version from MSDN magazine...</td>\n",
       "    </tr>\n",
       "    <tr>\n",
       "      <th>1</th>\n",
       "      <td>1970</td>\n",
       "      <td>116.0</td>\n",
       "      <td>2008-08-05T06:39:31Z</td>\n",
       "      <td>NaN</td>\n",
       "      <td>10</td>\n",
       "      <td>What language do you use for PostgreSQL trigge...</td>\n",
       "      <td>&lt;p&gt;PostgreSQL is interesting in that it suppor...</td>\n",
       "      <td>sql</td>\n",
       "      <td>1971</td>\n",
       "      <td>269.0</td>\n",
       "      <td>2008-08-05T06:43:30Z</td>\n",
       "      <td>3</td>\n",
       "      <td>&lt;p&gt;When I wrote my first trigger it was in Per...</td>\n",
       "    </tr>\n",
       "    <tr>\n",
       "      <th>2</th>\n",
       "      <td>1970</td>\n",
       "      <td>116.0</td>\n",
       "      <td>2008-08-05T06:39:31Z</td>\n",
       "      <td>NaN</td>\n",
       "      <td>10</td>\n",
       "      <td>What language do you use for PostgreSQL trigge...</td>\n",
       "      <td>&lt;p&gt;PostgreSQL is interesting in that it suppor...</td>\n",
       "      <td>sql</td>\n",
       "      <td>3454</td>\n",
       "      <td>277.0</td>\n",
       "      <td>2008-08-06T14:26:08Z</td>\n",
       "      <td>5</td>\n",
       "      <td>&lt;p&gt;I have only really used PL/pgSQL, but that ...</td>\n",
       "    </tr>\n",
       "    <tr>\n",
       "      <th>3</th>\n",
       "      <td>1970</td>\n",
       "      <td>116.0</td>\n",
       "      <td>2008-08-05T06:39:31Z</td>\n",
       "      <td>NaN</td>\n",
       "      <td>10</td>\n",
       "      <td>What language do you use for PostgreSQL trigge...</td>\n",
       "      <td>&lt;p&gt;PostgreSQL is interesting in that it suppor...</td>\n",
       "      <td>sql</td>\n",
       "      <td>59345</td>\n",
       "      <td>1081.0</td>\n",
       "      <td>2008-09-12T15:39:39Z</td>\n",
       "      <td>2</td>\n",
       "      <td>&lt;p&gt;Skype uses &lt;strong&gt;PostgreSQL&lt;/strong&gt; toge...</td>\n",
       "    </tr>\n",
       "    <tr>\n",
       "      <th>4</th>\n",
       "      <td>1970</td>\n",
       "      <td>116.0</td>\n",
       "      <td>2008-08-05T06:39:31Z</td>\n",
       "      <td>NaN</td>\n",
       "      <td>10</td>\n",
       "      <td>What language do you use for PostgreSQL trigge...</td>\n",
       "      <td>&lt;p&gt;PostgreSQL is interesting in that it suppor...</td>\n",
       "      <td>sql</td>\n",
       "      <td>69641</td>\n",
       "      <td>11116.0</td>\n",
       "      <td>2008-09-16T05:43:22Z</td>\n",
       "      <td>4</td>\n",
       "      <td>&lt;p&gt;I write pretty much everything in plpgsql, ...</td>\n",
       "    </tr>\n",
       "  </tbody>\n",
       "</table>\n",
       "</div>"
      ],
      "text/plain": [
       "   Q_ID  User_id_q  ... A_Score                                            Answers\n",
       "0   120       83.0  ...       9  <p>The Jeff Prosise version from MSDN magazine...\n",
       "1  1970      116.0  ...       3  <p>When I wrote my first trigger it was in Per...\n",
       "2  1970      116.0  ...       5  <p>I have only really used PL/pgSQL, but that ...\n",
       "3  1970      116.0  ...       2  <p>Skype uses <strong>PostgreSQL</strong> toge...\n",
       "4  1970      116.0  ...       4  <p>I write pretty much everything in plpgsql, ...\n",
       "\n",
       "[5 rows x 13 columns]"
      ]
     },
     "execution_count": 22,
     "metadata": {
      "tags": []
     },
     "output_type": "execute_result"
    }
   ],
   "source": [
    "new.head()"
   ]
  },
  {
   "cell_type": "code",
   "execution_count": 23,
   "metadata": {
    "colab": {
     "base_uri": "https://localhost:8080/"
    },
    "id": "w37f8TgVIGRB",
    "outputId": "102f8531-2eb7-46c2-e0f2-3259082f620f"
   },
   "outputs": [
    {
     "data": {
      "text/plain": [
       "(216304, 13)"
      ]
     },
     "execution_count": 23,
     "metadata": {
      "tags": []
     },
     "output_type": "execute_result"
    }
   ],
   "source": [
    "new.shape"
   ]
  },
  {
   "cell_type": "code",
   "execution_count": 24,
   "metadata": {
    "id": "riIHppaEXSzk"
   },
   "outputs": [],
   "source": [
    "from bs4 import BeautifulSoup\n"
   ]
  },
  {
   "cell_type": "code",
   "execution_count": 25,
   "metadata": {
    "id": "SyE2AqV1VTXA"
   },
   "outputs": [],
   "source": [
    "\n",
    "new['Questions'] = new['Questions'].apply(lambda x: BeautifulSoup(x).get_text()) \n"
   ]
  },
  {
   "cell_type": "code",
   "execution_count": 26,
   "metadata": {
    "id": "oz0jEg3WVcN_"
   },
   "outputs": [],
   "source": [
    "new['Answers'] = new['Answers'].apply(lambda x: BeautifulSoup(x).get_text()) \n"
   ]
  },
  {
   "cell_type": "code",
   "execution_count": 27,
   "metadata": {
    "colab": {
     "base_uri": "https://localhost:8080/",
     "height": 190
    },
    "id": "iE4igwBKX_WY",
    "outputId": "ed37b41d-6e22-41b1-9d0e-7506d86b311a"
   },
   "outputs": [
    {
     "data": {
      "text/html": [
       "<div>\n",
       "<style scoped>\n",
       "    .dataframe tbody tr th:only-of-type {\n",
       "        vertical-align: middle;\n",
       "    }\n",
       "\n",
       "    .dataframe tbody tr th {\n",
       "        vertical-align: top;\n",
       "    }\n",
       "\n",
       "    .dataframe thead th {\n",
       "        text-align: right;\n",
       "    }\n",
       "</style>\n",
       "<table border=\"1\" class=\"dataframe\">\n",
       "  <thead>\n",
       "    <tr style=\"text-align: right;\">\n",
       "      <th></th>\n",
       "      <th>Q_ID</th>\n",
       "      <th>User_id_q</th>\n",
       "      <th>Q_CreationDate</th>\n",
       "      <th>Q_ClosedDate</th>\n",
       "      <th>Q_Score</th>\n",
       "      <th>Q_Title</th>\n",
       "      <th>Questions</th>\n",
       "      <th>Tags</th>\n",
       "      <th>A_ID</th>\n",
       "      <th>User_id_a</th>\n",
       "      <th>A_CreationDate</th>\n",
       "      <th>A_Score</th>\n",
       "      <th>Answers</th>\n",
       "    </tr>\n",
       "  </thead>\n",
       "  <tbody>\n",
       "    <tr>\n",
       "      <th>0</th>\n",
       "      <td>120</td>\n",
       "      <td>83.0</td>\n",
       "      <td>2008-08-01T15:50:08Z</td>\n",
       "      <td>NaN</td>\n",
       "      <td>21</td>\n",
       "      <td>ASP.NET Site Maps</td>\n",
       "      <td>Has anyone got experience creating SQL-based A...</td>\n",
       "      <td>sql</td>\n",
       "      <td>124363</td>\n",
       "      <td>12734.0</td>\n",
       "      <td>2008-09-23T22:41:11Z</td>\n",
       "      <td>9</td>\n",
       "      <td>The Jeff Prosise version from MSDN magazine wo...</td>\n",
       "    </tr>\n",
       "    <tr>\n",
       "      <th>1</th>\n",
       "      <td>1970</td>\n",
       "      <td>116.0</td>\n",
       "      <td>2008-08-05T06:39:31Z</td>\n",
       "      <td>NaN</td>\n",
       "      <td>10</td>\n",
       "      <td>What language do you use for PostgreSQL trigge...</td>\n",
       "      <td>PostgreSQL is interesting in that it supports ...</td>\n",
       "      <td>sql</td>\n",
       "      <td>1971</td>\n",
       "      <td>269.0</td>\n",
       "      <td>2008-08-05T06:43:30Z</td>\n",
       "      <td>3</td>\n",
       "      <td>When I wrote my first trigger it was in Perl b...</td>\n",
       "    </tr>\n",
       "  </tbody>\n",
       "</table>\n",
       "</div>"
      ],
      "text/plain": [
       "   Q_ID  User_id_q  ... A_Score                                            Answers\n",
       "0   120       83.0  ...       9  The Jeff Prosise version from MSDN magazine wo...\n",
       "1  1970      116.0  ...       3  When I wrote my first trigger it was in Perl b...\n",
       "\n",
       "[2 rows x 13 columns]"
      ]
     },
     "execution_count": 27,
     "metadata": {
      "tags": []
     },
     "output_type": "execute_result"
    }
   ],
   "source": [
    "new.head(2)"
   ]
  },
  {
   "cell_type": "code",
   "execution_count": 28,
   "metadata": {
    "id": "fU3HF3gsbNb2"
   },
   "outputs": [],
   "source": [
    "import re"
   ]
  },
  {
   "cell_type": "code",
   "execution_count": 29,
   "metadata": {
    "id": "TWXE2Xo2ZaCB"
   },
   "outputs": [],
   "source": [
    "def clean_text(text):\n",
    "    text = text.lower()\n",
    "    text = re.sub(r\"what's\", \"what is \", text)\n",
    "    text = re.sub(r\"\\'s\", \" \", text)\n",
    "    text = re.sub(r\"\\'ve\", \" have \", text)\n",
    "    text = re.sub(r\"can't\", \"can not \", text)\n",
    "    text = re.sub(r\"n't\", \" not \", text)\n",
    "    text = re.sub(r\"i'm\", \"i am \", text)\n",
    "    text = re.sub(r\"\\'re\", \" are \", text)\n",
    "    text = re.sub(r\"\\'d\", \" would \", text)\n",
    "    text = re.sub(r\"\\'ll\", \" will \", text)\n",
    "    text = re.sub(r\"\\'scuse\", \" excuse \", text)\n",
    "    text = re.sub(r\"\\'\\n\", \" \", text)\n",
    "    text = re.sub(r\"\\'\\xa0\", \" \", text)\n",
    "    text = re.sub('\\s+', ' ', text)\n",
    "    text = text.strip(' ')\n",
    "    return text"
   ]
  },
  {
   "cell_type": "code",
   "execution_count": 30,
   "metadata": {
    "id": "zOdV_uosZ0hO"
   },
   "outputs": [],
   "source": [
    "new['Questions'] = new['Questions'].apply(lambda x: clean_text(x)) \n"
   ]
  },
  {
   "cell_type": "code",
   "execution_count": 31,
   "metadata": {
    "id": "MkSjwhOlqN4-"
   },
   "outputs": [],
   "source": [
    "new[\"Questions\"] = new[\"Questions\"].str.replace(r'[^\\w\\s]+', '_')\n"
   ]
  },
  {
   "cell_type": "code",
   "execution_count": 32,
   "metadata": {
    "id": "eZ3jICB2Z-3D"
   },
   "outputs": [],
   "source": [
    "new['Answers'] = new['Answers'].apply(lambda x: clean_text(x)) \n"
   ]
  },
  {
   "cell_type": "code",
   "execution_count": 33,
   "metadata": {
    "id": "Wn4RV5rooZOX"
   },
   "outputs": [],
   "source": [
    "new['Answers'] = new['Answers'].str.replace(r'[^\\w\\s]+', '_') \n"
   ]
  },
  {
   "cell_type": "code",
   "execution_count": 34,
   "metadata": {
    "id": "30XP-0dBpSs3"
   },
   "outputs": [],
   "source": [
    "new['Q_Title'] = new['Q_Title'].apply(lambda x: clean_text(x)) "
   ]
  },
  {
   "cell_type": "code",
   "execution_count": 35,
   "metadata": {
    "id": "tzBg0L1Vsw1M"
   },
   "outputs": [],
   "source": [
    "new['Q_Title'] = new['Q_Title'].str.replace(r'[^\\w\\s]+', '_')"
   ]
  },
  {
   "cell_type": "code",
   "execution_count": 36,
   "metadata": {
    "id": "8YwXmy1vVfm_"
   },
   "outputs": [],
   "source": [
    "#new['Tags'] = new['Tags'].apply(lambda x: clean_text(x))"
   ]
  },
  {
   "cell_type": "code",
   "execution_count": 37,
   "metadata": {
    "id": "JhoKeYnHVWZi"
   },
   "outputs": [],
   "source": [
    "#new['Tags'] = new['Tags'].str.replace(r'[^\\w\\s]+', '_')"
   ]
  },
  {
   "cell_type": "code",
   "execution_count": 38,
   "metadata": {
    "colab": {
     "base_uri": "https://localhost:8080/",
     "height": 363
    },
    "id": "o4tiHvNSs1VB",
    "outputId": "daf8f724-d793-458c-f5c1-2968202bc6a7"
   },
   "outputs": [
    {
     "data": {
      "text/html": [
       "<div>\n",
       "<style scoped>\n",
       "    .dataframe tbody tr th:only-of-type {\n",
       "        vertical-align: middle;\n",
       "    }\n",
       "\n",
       "    .dataframe tbody tr th {\n",
       "        vertical-align: top;\n",
       "    }\n",
       "\n",
       "    .dataframe thead th {\n",
       "        text-align: right;\n",
       "    }\n",
       "</style>\n",
       "<table border=\"1\" class=\"dataframe\">\n",
       "  <thead>\n",
       "    <tr style=\"text-align: right;\">\n",
       "      <th></th>\n",
       "      <th>Q_ID</th>\n",
       "      <th>User_id_q</th>\n",
       "      <th>Q_CreationDate</th>\n",
       "      <th>Q_ClosedDate</th>\n",
       "      <th>Q_Score</th>\n",
       "      <th>Q_Title</th>\n",
       "      <th>Questions</th>\n",
       "      <th>Tags</th>\n",
       "      <th>A_ID</th>\n",
       "      <th>User_id_a</th>\n",
       "      <th>A_CreationDate</th>\n",
       "      <th>A_Score</th>\n",
       "      <th>Answers</th>\n",
       "    </tr>\n",
       "  </thead>\n",
       "  <tbody>\n",
       "    <tr>\n",
       "      <th>0</th>\n",
       "      <td>120</td>\n",
       "      <td>83.0</td>\n",
       "      <td>2008-08-01T15:50:08Z</td>\n",
       "      <td>NaN</td>\n",
       "      <td>21</td>\n",
       "      <td>asp_net site maps</td>\n",
       "      <td>has anyone got experience creating sql_based a...</td>\n",
       "      <td>sql</td>\n",
       "      <td>124363</td>\n",
       "      <td>12734.0</td>\n",
       "      <td>2008-09-23T22:41:11Z</td>\n",
       "      <td>9</td>\n",
       "      <td>the jeff prosise version from msdn magazine wo...</td>\n",
       "    </tr>\n",
       "    <tr>\n",
       "      <th>1</th>\n",
       "      <td>1970</td>\n",
       "      <td>116.0</td>\n",
       "      <td>2008-08-05T06:39:31Z</td>\n",
       "      <td>NaN</td>\n",
       "      <td>10</td>\n",
       "      <td>what language do you use for postgresql trigge...</td>\n",
       "      <td>postgresql is interesting in that it supports ...</td>\n",
       "      <td>sql</td>\n",
       "      <td>1971</td>\n",
       "      <td>269.0</td>\n",
       "      <td>2008-08-05T06:43:30Z</td>\n",
       "      <td>3</td>\n",
       "      <td>when i wrote my first trigger it was in perl b...</td>\n",
       "    </tr>\n",
       "    <tr>\n",
       "      <th>2</th>\n",
       "      <td>1970</td>\n",
       "      <td>116.0</td>\n",
       "      <td>2008-08-05T06:39:31Z</td>\n",
       "      <td>NaN</td>\n",
       "      <td>10</td>\n",
       "      <td>what language do you use for postgresql trigge...</td>\n",
       "      <td>postgresql is interesting in that it supports ...</td>\n",
       "      <td>sql</td>\n",
       "      <td>3454</td>\n",
       "      <td>277.0</td>\n",
       "      <td>2008-08-06T14:26:08Z</td>\n",
       "      <td>5</td>\n",
       "      <td>i have only really used pl_pgsql_ but that was...</td>\n",
       "    </tr>\n",
       "    <tr>\n",
       "      <th>3</th>\n",
       "      <td>1970</td>\n",
       "      <td>116.0</td>\n",
       "      <td>2008-08-05T06:39:31Z</td>\n",
       "      <td>NaN</td>\n",
       "      <td>10</td>\n",
       "      <td>what language do you use for postgresql trigge...</td>\n",
       "      <td>postgresql is interesting in that it supports ...</td>\n",
       "      <td>sql</td>\n",
       "      <td>59345</td>\n",
       "      <td>1081.0</td>\n",
       "      <td>2008-09-12T15:39:39Z</td>\n",
       "      <td>2</td>\n",
       "      <td>skype uses postgresql together with python_ an...</td>\n",
       "    </tr>\n",
       "    <tr>\n",
       "      <th>4</th>\n",
       "      <td>1970</td>\n",
       "      <td>116.0</td>\n",
       "      <td>2008-08-05T06:39:31Z</td>\n",
       "      <td>NaN</td>\n",
       "      <td>10</td>\n",
       "      <td>what language do you use for postgresql trigge...</td>\n",
       "      <td>postgresql is interesting in that it supports ...</td>\n",
       "      <td>sql</td>\n",
       "      <td>69641</td>\n",
       "      <td>11116.0</td>\n",
       "      <td>2008-09-16T05:43:22Z</td>\n",
       "      <td>4</td>\n",
       "      <td>i write pretty much everything in plpgsql_ but...</td>\n",
       "    </tr>\n",
       "  </tbody>\n",
       "</table>\n",
       "</div>"
      ],
      "text/plain": [
       "   Q_ID  User_id_q  ... A_Score                                            Answers\n",
       "0   120       83.0  ...       9  the jeff prosise version from msdn magazine wo...\n",
       "1  1970      116.0  ...       3  when i wrote my first trigger it was in perl b...\n",
       "2  1970      116.0  ...       5  i have only really used pl_pgsql_ but that was...\n",
       "3  1970      116.0  ...       2  skype uses postgresql together with python_ an...\n",
       "4  1970      116.0  ...       4  i write pretty much everything in plpgsql_ but...\n",
       "\n",
       "[5 rows x 13 columns]"
      ]
     },
     "execution_count": 38,
     "metadata": {
      "tags": []
     },
     "output_type": "execute_result"
    }
   ],
   "source": [
    "new.head()"
   ]
  },
  {
   "cell_type": "code",
   "execution_count": 39,
   "metadata": {
    "colab": {
     "base_uri": "https://localhost:8080/"
    },
    "id": "CaOkh_7ds3Va",
    "outputId": "e1953a30-5648-475f-ee52-af014e6c60d5"
   },
   "outputs": [
    {
     "name": "stdout",
     "output_type": "stream",
     "text": [
      "<class 'pandas.core.frame.DataFrame'>\n",
      "Int64Index: 216304 entries, 0 to 216303\n",
      "Data columns (total 13 columns):\n",
      " #   Column          Non-Null Count   Dtype  \n",
      "---  ------          --------------   -----  \n",
      " 0   Q_ID            216304 non-null  int64  \n",
      " 1   User_id_q       213269 non-null  float64\n",
      " 2   Q_CreationDate  216304 non-null  object \n",
      " 3   Q_ClosedDate    10867 non-null   object \n",
      " 4   Q_Score         216304 non-null  int64  \n",
      " 5   Q_Title         216304 non-null  object \n",
      " 6   Questions       216304 non-null  object \n",
      " 7   Tags            216304 non-null  object \n",
      " 8   A_ID            216304 non-null  int64  \n",
      " 9   User_id_a       215061 non-null  float64\n",
      " 10  A_CreationDate  216304 non-null  object \n",
      " 11  A_Score         216304 non-null  int64  \n",
      " 12  Answers         216304 non-null  object \n",
      "dtypes: float64(2), int64(4), object(7)\n",
      "memory usage: 23.1+ MB\n"
     ]
    }
   ],
   "source": [
    "new.info()"
   ]
  },
  {
   "cell_type": "code",
   "execution_count": 40,
   "metadata": {
    "id": "1psQZ4pAs_KI"
   },
   "outputs": [],
   "source": [
    "new.rename(columns={\"Q_ID\":\"Question_ID\",\"User_id_q\":\"Id_of_user_who_asked_question\",\"Q_Title\":\"Title\",\n",
    "                    \"User_id_a\":\"Id_of_user_who_answered_question\"},inplace = True)"
   ]
  },
  {
   "cell_type": "code",
   "execution_count": 41,
   "metadata": {
    "id": "S6fw98U5vMbv"
   },
   "outputs": [],
   "source": [
    "new.drop(\"A_ID\",axis=1,inplace = True)"
   ]
  },
  {
   "cell_type": "code",
   "execution_count": 42,
   "metadata": {
    "id": "bB7ZGOnlvVK0"
   },
   "outputs": [],
   "source": [
    "new.drop(\"Question_ID\",axis=1,inplace = True)"
   ]
  },
  {
   "cell_type": "code",
   "execution_count": 43,
   "metadata": {
    "colab": {
     "base_uri": "https://localhost:8080/",
     "height": 666
    },
    "id": "KGRAM0VfvWUU",
    "outputId": "918c7640-dd1c-4825-b24d-7885d8438eb4"
   },
   "outputs": [
    {
     "data": {
      "text/html": [
       "<div>\n",
       "<style scoped>\n",
       "    .dataframe tbody tr th:only-of-type {\n",
       "        vertical-align: middle;\n",
       "    }\n",
       "\n",
       "    .dataframe tbody tr th {\n",
       "        vertical-align: top;\n",
       "    }\n",
       "\n",
       "    .dataframe thead th {\n",
       "        text-align: right;\n",
       "    }\n",
       "</style>\n",
       "<table border=\"1\" class=\"dataframe\">\n",
       "  <thead>\n",
       "    <tr style=\"text-align: right;\">\n",
       "      <th></th>\n",
       "      <th>Id_of_user_who_asked_question</th>\n",
       "      <th>Q_CreationDate</th>\n",
       "      <th>Q_ClosedDate</th>\n",
       "      <th>Q_Score</th>\n",
       "      <th>Title</th>\n",
       "      <th>Questions</th>\n",
       "      <th>Tags</th>\n",
       "      <th>Id_of_user_who_answered_question</th>\n",
       "      <th>A_CreationDate</th>\n",
       "      <th>A_Score</th>\n",
       "      <th>Answers</th>\n",
       "    </tr>\n",
       "  </thead>\n",
       "  <tbody>\n",
       "    <tr>\n",
       "      <th>0</th>\n",
       "      <td>83.0</td>\n",
       "      <td>2008-08-01T15:50:08Z</td>\n",
       "      <td>NaN</td>\n",
       "      <td>21</td>\n",
       "      <td>asp_net site maps</td>\n",
       "      <td>has anyone got experience creating sql_based a...</td>\n",
       "      <td>sql</td>\n",
       "      <td>12734.0</td>\n",
       "      <td>2008-09-23T22:41:11Z</td>\n",
       "      <td>9</td>\n",
       "      <td>the jeff prosise version from msdn magazine wo...</td>\n",
       "    </tr>\n",
       "    <tr>\n",
       "      <th>1</th>\n",
       "      <td>116.0</td>\n",
       "      <td>2008-08-05T06:39:31Z</td>\n",
       "      <td>NaN</td>\n",
       "      <td>10</td>\n",
       "      <td>what language do you use for postgresql trigge...</td>\n",
       "      <td>postgresql is interesting in that it supports ...</td>\n",
       "      <td>sql</td>\n",
       "      <td>269.0</td>\n",
       "      <td>2008-08-05T06:43:30Z</td>\n",
       "      <td>3</td>\n",
       "      <td>when i wrote my first trigger it was in perl b...</td>\n",
       "    </tr>\n",
       "    <tr>\n",
       "      <th>2</th>\n",
       "      <td>116.0</td>\n",
       "      <td>2008-08-05T06:39:31Z</td>\n",
       "      <td>NaN</td>\n",
       "      <td>10</td>\n",
       "      <td>what language do you use for postgresql trigge...</td>\n",
       "      <td>postgresql is interesting in that it supports ...</td>\n",
       "      <td>sql</td>\n",
       "      <td>277.0</td>\n",
       "      <td>2008-08-06T14:26:08Z</td>\n",
       "      <td>5</td>\n",
       "      <td>i have only really used pl_pgsql_ but that was...</td>\n",
       "    </tr>\n",
       "    <tr>\n",
       "      <th>3</th>\n",
       "      <td>116.0</td>\n",
       "      <td>2008-08-05T06:39:31Z</td>\n",
       "      <td>NaN</td>\n",
       "      <td>10</td>\n",
       "      <td>what language do you use for postgresql trigge...</td>\n",
       "      <td>postgresql is interesting in that it supports ...</td>\n",
       "      <td>sql</td>\n",
       "      <td>1081.0</td>\n",
       "      <td>2008-09-12T15:39:39Z</td>\n",
       "      <td>2</td>\n",
       "      <td>skype uses postgresql together with python_ an...</td>\n",
       "    </tr>\n",
       "    <tr>\n",
       "      <th>4</th>\n",
       "      <td>116.0</td>\n",
       "      <td>2008-08-05T06:39:31Z</td>\n",
       "      <td>NaN</td>\n",
       "      <td>10</td>\n",
       "      <td>what language do you use for postgresql trigge...</td>\n",
       "      <td>postgresql is interesting in that it supports ...</td>\n",
       "      <td>sql</td>\n",
       "      <td>11116.0</td>\n",
       "      <td>2008-09-16T05:43:22Z</td>\n",
       "      <td>4</td>\n",
       "      <td>i write pretty much everything in plpgsql_ but...</td>\n",
       "    </tr>\n",
       "  </tbody>\n",
       "</table>\n",
       "</div>"
      ],
      "text/plain": [
       "   Id_of_user_who_asked_question  ...                                            Answers\n",
       "0                           83.0  ...  the jeff prosise version from msdn magazine wo...\n",
       "1                          116.0  ...  when i wrote my first trigger it was in perl b...\n",
       "2                          116.0  ...  i have only really used pl_pgsql_ but that was...\n",
       "3                          116.0  ...  skype uses postgresql together with python_ an...\n",
       "4                          116.0  ...  i write pretty much everything in plpgsql_ but...\n",
       "\n",
       "[5 rows x 11 columns]"
      ]
     },
     "execution_count": 43,
     "metadata": {
      "tags": []
     },
     "output_type": "execute_result"
    }
   ],
   "source": [
    "new.head()"
   ]
  },
  {
   "cell_type": "code",
   "execution_count": 44,
   "metadata": {
    "colab": {
     "base_uri": "https://localhost:8080/"
    },
    "id": "xdonDI38vjeG",
    "outputId": "3be2685c-06ce-4165-f4e3-87affbc26c1b"
   },
   "outputs": [
    {
     "name": "stdout",
     "output_type": "stream",
     "text": [
      "<class 'pandas.core.frame.DataFrame'>\n",
      "Int64Index: 216304 entries, 0 to 216303\n",
      "Data columns (total 11 columns):\n",
      " #   Column                            Non-Null Count   Dtype  \n",
      "---  ------                            --------------   -----  \n",
      " 0   Id_of_user_who_asked_question     213269 non-null  float64\n",
      " 1   Q_CreationDate                    216304 non-null  object \n",
      " 2   Q_ClosedDate                      10867 non-null   object \n",
      " 3   Q_Score                           216304 non-null  int64  \n",
      " 4   Title                             216304 non-null  object \n",
      " 5   Questions                         216304 non-null  object \n",
      " 6   Tags                              216304 non-null  object \n",
      " 7   Id_of_user_who_answered_question  215061 non-null  float64\n",
      " 8   A_CreationDate                    216304 non-null  object \n",
      " 9   A_Score                           216304 non-null  int64  \n",
      " 10  Answers                           216304 non-null  object \n",
      "dtypes: float64(2), int64(2), object(7)\n",
      "memory usage: 19.8+ MB\n"
     ]
    }
   ],
   "source": [
    "new.info()"
   ]
  },
  {
   "cell_type": "code",
   "execution_count": 45,
   "metadata": {
    "id": "1Uh7KsmPvx4U"
   },
   "outputs": [],
   "source": [
    "new[\"Q_CreationDate\"] = pd.to_datetime(new[\"Q_CreationDate\"])"
   ]
  },
  {
   "cell_type": "code",
   "execution_count": 46,
   "metadata": {
    "id": "Pk-2t1F_wfp5"
   },
   "outputs": [],
   "source": [
    "new[\"Q_ClosedDate\"] = pd.to_datetime(new[\"Q_ClosedDate\"])"
   ]
  },
  {
   "cell_type": "code",
   "execution_count": 47,
   "metadata": {
    "id": "d7dfSSpjwivH"
   },
   "outputs": [],
   "source": [
    "new[\"A_CreationDate\"] = pd.to_datetime(new[\"A_CreationDate\"])"
   ]
  },
  {
   "cell_type": "code",
   "execution_count": 48,
   "metadata": {
    "colab": {
     "base_uri": "https://localhost:8080/"
    },
    "id": "nV-cBTOgxH-n",
    "outputId": "704cd107-3494-46b8-8ec5-6bf113a1662d"
   },
   "outputs": [
    {
     "name": "stdout",
     "output_type": "stream",
     "text": [
      "<class 'pandas.core.frame.DataFrame'>\n",
      "Int64Index: 216304 entries, 0 to 216303\n",
      "Data columns (total 11 columns):\n",
      " #   Column                            Non-Null Count   Dtype              \n",
      "---  ------                            --------------   -----              \n",
      " 0   Id_of_user_who_asked_question     213269 non-null  float64            \n",
      " 1   Q_CreationDate                    216304 non-null  datetime64[ns, UTC]\n",
      " 2   Q_ClosedDate                      10867 non-null   datetime64[ns, UTC]\n",
      " 3   Q_Score                           216304 non-null  int64              \n",
      " 4   Title                             216304 non-null  object             \n",
      " 5   Questions                         216304 non-null  object             \n",
      " 6   Tags                              216304 non-null  object             \n",
      " 7   Id_of_user_who_answered_question  215061 non-null  float64            \n",
      " 8   A_CreationDate                    216304 non-null  datetime64[ns, UTC]\n",
      " 9   A_Score                           216304 non-null  int64              \n",
      " 10  Answers                           216304 non-null  object             \n",
      "dtypes: datetime64[ns, UTC](3), float64(2), int64(2), object(4)\n",
      "memory usage: 19.8+ MB\n"
     ]
    }
   ],
   "source": [
    "new.info()"
   ]
  },
  {
   "cell_type": "code",
   "execution_count": 49,
   "metadata": {
    "id": "vmkjakfHzTb9"
   },
   "outputs": [],
   "source": [
    "#new['Q_Year'] = new['Q_CreationDate'].dt.year\n",
    "#new['Q_month'] = new['Q_CreationDate'].dt.month\n",
    "#new['Q_day'] = new['Q_CreationDate'].dt.day\n",
    "#new['Q_time'] = new['Q_CreationDate'].dt.time"
   ]
  },
  {
   "cell_type": "code",
   "execution_count": 49,
   "metadata": {
    "id": "Ejn5Xihh2qJI"
   },
   "outputs": [],
   "source": []
  },
  {
   "cell_type": "code",
   "execution_count": 50,
   "metadata": {
    "id": "LFfLmw602sgk"
   },
   "outputs": [],
   "source": [
    "#new['A_Year'] = new['A_CreationDate'].dt.year\n",
    "#new['A_month'] = new['A_CreationDate'].dt.month\n",
    "#new['A_day'] = new['A_CreationDate'].dt.day\n",
    "#new['A_time'] = new['A_CreationDate'].dt.time\n",
    "\n",
    "\n",
    "\n",
    "\n",
    "\n"
   ]
  },
  {
   "cell_type": "code",
   "execution_count": 51,
   "metadata": {
    "id": "10s2YIoz4bwI"
   },
   "outputs": [],
   "source": [
    "#new.drop(\"A_CreationDate\",axis=1,inplace=True)"
   ]
  },
  {
   "cell_type": "code",
   "execution_count": 52,
   "metadata": {
    "id": "N6wJYF5A4nUM"
   },
   "outputs": [],
   "source": [
    "#new.drop(\"Q_CreationDate\",axis=1,inplace=True)"
   ]
  },
  {
   "cell_type": "code",
   "execution_count": 53,
   "metadata": {
    "colab": {
     "base_uri": "https://localhost:8080/",
     "height": 666
    },
    "id": "5CrK9KTc4qzj",
    "outputId": "4c924f53-3186-4322-9605-f2787524dde7"
   },
   "outputs": [
    {
     "data": {
      "text/html": [
       "<div>\n",
       "<style scoped>\n",
       "    .dataframe tbody tr th:only-of-type {\n",
       "        vertical-align: middle;\n",
       "    }\n",
       "\n",
       "    .dataframe tbody tr th {\n",
       "        vertical-align: top;\n",
       "    }\n",
       "\n",
       "    .dataframe thead th {\n",
       "        text-align: right;\n",
       "    }\n",
       "</style>\n",
       "<table border=\"1\" class=\"dataframe\">\n",
       "  <thead>\n",
       "    <tr style=\"text-align: right;\">\n",
       "      <th></th>\n",
       "      <th>Id_of_user_who_asked_question</th>\n",
       "      <th>Q_CreationDate</th>\n",
       "      <th>Q_ClosedDate</th>\n",
       "      <th>Q_Score</th>\n",
       "      <th>Title</th>\n",
       "      <th>Questions</th>\n",
       "      <th>Tags</th>\n",
       "      <th>Id_of_user_who_answered_question</th>\n",
       "      <th>A_CreationDate</th>\n",
       "      <th>A_Score</th>\n",
       "      <th>Answers</th>\n",
       "    </tr>\n",
       "  </thead>\n",
       "  <tbody>\n",
       "    <tr>\n",
       "      <th>0</th>\n",
       "      <td>83.0</td>\n",
       "      <td>2008-08-01 15:50:08+00:00</td>\n",
       "      <td>NaT</td>\n",
       "      <td>21</td>\n",
       "      <td>asp_net site maps</td>\n",
       "      <td>has anyone got experience creating sql_based a...</td>\n",
       "      <td>sql</td>\n",
       "      <td>12734.0</td>\n",
       "      <td>2008-09-23 22:41:11+00:00</td>\n",
       "      <td>9</td>\n",
       "      <td>the jeff prosise version from msdn magazine wo...</td>\n",
       "    </tr>\n",
       "    <tr>\n",
       "      <th>1</th>\n",
       "      <td>116.0</td>\n",
       "      <td>2008-08-05 06:39:31+00:00</td>\n",
       "      <td>NaT</td>\n",
       "      <td>10</td>\n",
       "      <td>what language do you use for postgresql trigge...</td>\n",
       "      <td>postgresql is interesting in that it supports ...</td>\n",
       "      <td>sql</td>\n",
       "      <td>269.0</td>\n",
       "      <td>2008-08-05 06:43:30+00:00</td>\n",
       "      <td>3</td>\n",
       "      <td>when i wrote my first trigger it was in perl b...</td>\n",
       "    </tr>\n",
       "    <tr>\n",
       "      <th>2</th>\n",
       "      <td>116.0</td>\n",
       "      <td>2008-08-05 06:39:31+00:00</td>\n",
       "      <td>NaT</td>\n",
       "      <td>10</td>\n",
       "      <td>what language do you use for postgresql trigge...</td>\n",
       "      <td>postgresql is interesting in that it supports ...</td>\n",
       "      <td>sql</td>\n",
       "      <td>277.0</td>\n",
       "      <td>2008-08-06 14:26:08+00:00</td>\n",
       "      <td>5</td>\n",
       "      <td>i have only really used pl_pgsql_ but that was...</td>\n",
       "    </tr>\n",
       "    <tr>\n",
       "      <th>3</th>\n",
       "      <td>116.0</td>\n",
       "      <td>2008-08-05 06:39:31+00:00</td>\n",
       "      <td>NaT</td>\n",
       "      <td>10</td>\n",
       "      <td>what language do you use for postgresql trigge...</td>\n",
       "      <td>postgresql is interesting in that it supports ...</td>\n",
       "      <td>sql</td>\n",
       "      <td>1081.0</td>\n",
       "      <td>2008-09-12 15:39:39+00:00</td>\n",
       "      <td>2</td>\n",
       "      <td>skype uses postgresql together with python_ an...</td>\n",
       "    </tr>\n",
       "    <tr>\n",
       "      <th>4</th>\n",
       "      <td>116.0</td>\n",
       "      <td>2008-08-05 06:39:31+00:00</td>\n",
       "      <td>NaT</td>\n",
       "      <td>10</td>\n",
       "      <td>what language do you use for postgresql trigge...</td>\n",
       "      <td>postgresql is interesting in that it supports ...</td>\n",
       "      <td>sql</td>\n",
       "      <td>11116.0</td>\n",
       "      <td>2008-09-16 05:43:22+00:00</td>\n",
       "      <td>4</td>\n",
       "      <td>i write pretty much everything in plpgsql_ but...</td>\n",
       "    </tr>\n",
       "  </tbody>\n",
       "</table>\n",
       "</div>"
      ],
      "text/plain": [
       "   Id_of_user_who_asked_question  ...                                            Answers\n",
       "0                           83.0  ...  the jeff prosise version from msdn magazine wo...\n",
       "1                          116.0  ...  when i wrote my first trigger it was in perl b...\n",
       "2                          116.0  ...  i have only really used pl_pgsql_ but that was...\n",
       "3                          116.0  ...  skype uses postgresql together with python_ an...\n",
       "4                          116.0  ...  i write pretty much everything in plpgsql_ but...\n",
       "\n",
       "[5 rows x 11 columns]"
      ]
     },
     "execution_count": 53,
     "metadata": {
      "tags": []
     },
     "output_type": "execute_result"
    }
   ],
   "source": [
    "new.head()"
   ]
  },
  {
   "cell_type": "code",
   "execution_count": 53,
   "metadata": {
    "id": "gGYfaV8f6-Lm"
   },
   "outputs": [],
   "source": []
  },
  {
   "cell_type": "code",
   "execution_count": 54,
   "metadata": {
    "colab": {
     "base_uri": "https://localhost:8080/",
     "height": 195
    },
    "id": "smW_-1Q64sp0",
    "outputId": "6dab3576-a2c9-411c-9842-7875ce75b2a9"
   },
   "outputs": [
    {
     "data": {
      "text/html": [
       "<div>\n",
       "<style scoped>\n",
       "    .dataframe tbody tr th:only-of-type {\n",
       "        vertical-align: middle;\n",
       "    }\n",
       "\n",
       "    .dataframe tbody tr th {\n",
       "        vertical-align: top;\n",
       "    }\n",
       "\n",
       "    .dataframe thead th {\n",
       "        text-align: right;\n",
       "    }\n",
       "</style>\n",
       "<table border=\"1\" class=\"dataframe\">\n",
       "  <thead>\n",
       "    <tr style=\"text-align: right;\">\n",
       "      <th></th>\n",
       "      <th>Unnamed: 0</th>\n",
       "      <th>id</th>\n",
       "      <th>display_name</th>\n",
       "      <th>creation_date</th>\n",
       "      <th>last_access_date</th>\n",
       "      <th>reputation</th>\n",
       "      <th>up_votes</th>\n",
       "      <th>down_votes</th>\n",
       "      <th>views</th>\n",
       "    </tr>\n",
       "  </thead>\n",
       "  <tbody>\n",
       "    <tr>\n",
       "      <th>0</th>\n",
       "      <td>0</td>\n",
       "      <td>26</td>\n",
       "      <td>Shawn</td>\n",
       "      <td>2008-08-01 12:18:14.52 UTC</td>\n",
       "      <td>2018-04-11 04:40:35.66 UTC</td>\n",
       "      <td>11820</td>\n",
       "      <td>565</td>\n",
       "      <td>67</td>\n",
       "      <td>3547</td>\n",
       "    </tr>\n",
       "    <tr>\n",
       "      <th>1</th>\n",
       "      <td>1</td>\n",
       "      <td>26</td>\n",
       "      <td>Shawn</td>\n",
       "      <td>2008-08-01 12:18:14.52 UTC</td>\n",
       "      <td>2018-04-11 04:40:35.66 UTC</td>\n",
       "      <td>11820</td>\n",
       "      <td>565</td>\n",
       "      <td>67</td>\n",
       "      <td>3547</td>\n",
       "    </tr>\n",
       "    <tr>\n",
       "      <th>2</th>\n",
       "      <td>2</td>\n",
       "      <td>26</td>\n",
       "      <td>Shawn</td>\n",
       "      <td>2008-08-01 12:18:14.52 UTC</td>\n",
       "      <td>2018-04-11 04:40:35.66 UTC</td>\n",
       "      <td>11820</td>\n",
       "      <td>565</td>\n",
       "      <td>67</td>\n",
       "      <td>3547</td>\n",
       "    </tr>\n",
       "    <tr>\n",
       "      <th>3</th>\n",
       "      <td>3</td>\n",
       "      <td>26</td>\n",
       "      <td>Shawn</td>\n",
       "      <td>2008-08-01 12:18:14.52 UTC</td>\n",
       "      <td>2018-04-11 04:40:35.66 UTC</td>\n",
       "      <td>11820</td>\n",
       "      <td>565</td>\n",
       "      <td>67</td>\n",
       "      <td>3547</td>\n",
       "    </tr>\n",
       "    <tr>\n",
       "      <th>4</th>\n",
       "      <td>4</td>\n",
       "      <td>26</td>\n",
       "      <td>Shawn</td>\n",
       "      <td>2008-08-01 12:18:14.52 UTC</td>\n",
       "      <td>2018-04-11 04:40:35.66 UTC</td>\n",
       "      <td>11820</td>\n",
       "      <td>565</td>\n",
       "      <td>67</td>\n",
       "      <td>3547</td>\n",
       "    </tr>\n",
       "  </tbody>\n",
       "</table>\n",
       "</div>"
      ],
      "text/plain": [
       "   Unnamed: 0  id display_name  ... up_votes down_votes  views\n",
       "0           0  26        Shawn  ...      565         67   3547\n",
       "1           1  26        Shawn  ...      565         67   3547\n",
       "2           2  26        Shawn  ...      565         67   3547\n",
       "3           3  26        Shawn  ...      565         67   3547\n",
       "4           4  26        Shawn  ...      565         67   3547\n",
       "\n",
       "[5 rows x 9 columns]"
      ]
     },
     "execution_count": 54,
     "metadata": {
      "tags": []
     },
     "output_type": "execute_result"
    }
   ],
   "source": [
    "users.head()\n"
   ]
  },
  {
   "cell_type": "code",
   "execution_count": 55,
   "metadata": {
    "id": "p_9CAmwn5T_-"
   },
   "outputs": [],
   "source": [
    "users = users.drop(\"Unnamed: 0\",axis=1)"
   ]
  },
  {
   "cell_type": "code",
   "execution_count": 56,
   "metadata": {
    "id": "tn0wQr6V53kD"
   },
   "outputs": [],
   "source": [
    "users = users.drop_duplicates()"
   ]
  },
  {
   "cell_type": "code",
   "execution_count": 57,
   "metadata": {
    "colab": {
     "base_uri": "https://localhost:8080/",
     "height": 195
    },
    "id": "1E5nJLJR6SsQ",
    "outputId": "f90c2c20-0ac0-45ad-9eba-11db0e071466"
   },
   "outputs": [
    {
     "data": {
      "text/html": [
       "<div>\n",
       "<style scoped>\n",
       "    .dataframe tbody tr th:only-of-type {\n",
       "        vertical-align: middle;\n",
       "    }\n",
       "\n",
       "    .dataframe tbody tr th {\n",
       "        vertical-align: top;\n",
       "    }\n",
       "\n",
       "    .dataframe thead th {\n",
       "        text-align: right;\n",
       "    }\n",
       "</style>\n",
       "<table border=\"1\" class=\"dataframe\">\n",
       "  <thead>\n",
       "    <tr style=\"text-align: right;\">\n",
       "      <th></th>\n",
       "      <th>id</th>\n",
       "      <th>display_name</th>\n",
       "      <th>creation_date</th>\n",
       "      <th>last_access_date</th>\n",
       "      <th>reputation</th>\n",
       "      <th>up_votes</th>\n",
       "      <th>down_votes</th>\n",
       "      <th>views</th>\n",
       "    </tr>\n",
       "  </thead>\n",
       "  <tbody>\n",
       "    <tr>\n",
       "      <th>0</th>\n",
       "      <td>26</td>\n",
       "      <td>Shawn</td>\n",
       "      <td>2008-08-01 12:18:14.52 UTC</td>\n",
       "      <td>2018-04-11 04:40:35.66 UTC</td>\n",
       "      <td>11820</td>\n",
       "      <td>565</td>\n",
       "      <td>67</td>\n",
       "      <td>3547</td>\n",
       "    </tr>\n",
       "    <tr>\n",
       "      <th>27</th>\n",
       "      <td>1109</td>\n",
       "      <td>Theo</td>\n",
       "      <td>2008-08-12 12:16:58.61 UTC</td>\n",
       "      <td>2019-08-31 11:39:52.28 UTC</td>\n",
       "      <td>116072</td>\n",
       "      <td>457</td>\n",
       "      <td>136</td>\n",
       "      <td>6905</td>\n",
       "    </tr>\n",
       "    <tr>\n",
       "      <th>85</th>\n",
       "      <td>364174</td>\n",
       "      <td>stats</td>\n",
       "      <td>2010-06-11 03:34:57.137 UTC</td>\n",
       "      <td>2019-08-29 18:37:35.027 UTC</td>\n",
       "      <td>325</td>\n",
       "      <td>25</td>\n",
       "      <td>1</td>\n",
       "      <td>60</td>\n",
       "    </tr>\n",
       "    <tr>\n",
       "      <th>87</th>\n",
       "      <td>61</td>\n",
       "      <td>Bernard</td>\n",
       "      <td>2008-08-01 14:21:00.573 UTC</td>\n",
       "      <td>2019-08-30 07:11:58.297 UTC</td>\n",
       "      <td>22779</td>\n",
       "      <td>1321</td>\n",
       "      <td>219</td>\n",
       "      <td>1731</td>\n",
       "    </tr>\n",
       "    <tr>\n",
       "      <th>97</th>\n",
       "      <td>20709</td>\n",
       "      <td>Black Horus</td>\n",
       "      <td>2008-09-22 20:03:39.71 UTC</td>\n",
       "      <td>2019-09-01 01:17:38.133 UTC</td>\n",
       "      <td>978</td>\n",
       "      <td>73</td>\n",
       "      <td>2</td>\n",
       "      <td>96</td>\n",
       "    </tr>\n",
       "  </tbody>\n",
       "</table>\n",
       "</div>"
      ],
      "text/plain": [
       "        id display_name  ... down_votes views\n",
       "0       26        Shawn  ...         67  3547\n",
       "27    1109         Theo  ...        136  6905\n",
       "85  364174        stats  ...          1    60\n",
       "87      61      Bernard  ...        219  1731\n",
       "97   20709  Black Horus  ...          2    96\n",
       "\n",
       "[5 rows x 8 columns]"
      ]
     },
     "execution_count": 57,
     "metadata": {
      "tags": []
     },
     "output_type": "execute_result"
    }
   ],
   "source": [
    "users.head()"
   ]
  },
  {
   "cell_type": "code",
   "execution_count": 58,
   "metadata": {
    "colab": {
     "base_uri": "https://localhost:8080/"
    },
    "id": "bakSMnaG6v8S",
    "outputId": "593c77e1-0e6e-4120-b9ea-d0c05c53a9cc"
   },
   "outputs": [
    {
     "data": {
      "text/plain": [
       "(465460, 8)"
      ]
     },
     "execution_count": 58,
     "metadata": {
      "tags": []
     },
     "output_type": "execute_result"
    }
   ],
   "source": [
    "users.shape"
   ]
  },
  {
   "cell_type": "code",
   "execution_count": 59,
   "metadata": {
    "colab": {
     "base_uri": "https://localhost:8080/"
    },
    "id": "ILeLW1ta6080",
    "outputId": "71f64887-9c60-4ef9-fc9a-bb6862973d43"
   },
   "outputs": [
    {
     "data": {
      "text/plain": [
       "Id_of_user_who_asked_question         3035\n",
       "Q_CreationDate                           0\n",
       "Q_ClosedDate                        205437\n",
       "Q_Score                                  0\n",
       "Title                                    0\n",
       "Questions                                0\n",
       "Tags                                     0\n",
       "Id_of_user_who_answered_question      1243\n",
       "A_CreationDate                           0\n",
       "A_Score                                  0\n",
       "Answers                                  0\n",
       "dtype: int64"
      ]
     },
     "execution_count": 59,
     "metadata": {
      "tags": []
     },
     "output_type": "execute_result"
    }
   ],
   "source": [
    "new.isnull().sum()"
   ]
  },
  {
   "cell_type": "code",
   "execution_count": 60,
   "metadata": {
    "id": "FrxF3q417MTm"
   },
   "outputs": [],
   "source": [
    "df = new[~new['Id_of_user_who_asked_question'].isnull()]"
   ]
  },
  {
   "cell_type": "code",
   "execution_count": 61,
   "metadata": {
    "id": "hHaO-8bh8G9Y"
   },
   "outputs": [],
   "source": [
    "df = df[~df['Id_of_user_who_answered_question'].isnull()]"
   ]
  },
  {
   "cell_type": "code",
   "execution_count": 62,
   "metadata": {
    "colab": {
     "base_uri": "https://localhost:8080/"
    },
    "id": "S1DGJxmW7o48",
    "outputId": "c3f93614-2b15-4ae9-d496-7c9ff5b32588"
   },
   "outputs": [
    {
     "data": {
      "text/plain": [
       "Id_of_user_who_asked_question            0\n",
       "Q_CreationDate                           0\n",
       "Q_ClosedDate                        201505\n",
       "Q_Score                                  0\n",
       "Title                                    0\n",
       "Questions                                0\n",
       "Tags                                     0\n",
       "Id_of_user_who_answered_question         0\n",
       "A_CreationDate                           0\n",
       "A_Score                                  0\n",
       "Answers                                  0\n",
       "dtype: int64"
      ]
     },
     "execution_count": 62,
     "metadata": {
      "tags": []
     },
     "output_type": "execute_result"
    }
   ],
   "source": [
    "df.isnull().sum()"
   ]
  },
  {
   "cell_type": "code",
   "execution_count": 63,
   "metadata": {
    "id": "Ex3SpQuW7qMv"
   },
   "outputs": [],
   "source": [
    "df['Id_of_user_who_answered_question'] = df[\"Id_of_user_who_answered_question\"].astype(int)      "
   ]
  },
  {
   "cell_type": "code",
   "execution_count": 64,
   "metadata": {
    "colab": {
     "base_uri": "https://localhost:8080/",
     "height": 666
    },
    "id": "1E1m20Vt89P6",
    "outputId": "75d6f14b-4f02-461a-b730-619fff9011c1"
   },
   "outputs": [
    {
     "data": {
      "text/html": [
       "<div>\n",
       "<style scoped>\n",
       "    .dataframe tbody tr th:only-of-type {\n",
       "        vertical-align: middle;\n",
       "    }\n",
       "\n",
       "    .dataframe tbody tr th {\n",
       "        vertical-align: top;\n",
       "    }\n",
       "\n",
       "    .dataframe thead th {\n",
       "        text-align: right;\n",
       "    }\n",
       "</style>\n",
       "<table border=\"1\" class=\"dataframe\">\n",
       "  <thead>\n",
       "    <tr style=\"text-align: right;\">\n",
       "      <th></th>\n",
       "      <th>Id_of_user_who_asked_question</th>\n",
       "      <th>Q_CreationDate</th>\n",
       "      <th>Q_ClosedDate</th>\n",
       "      <th>Q_Score</th>\n",
       "      <th>Title</th>\n",
       "      <th>Questions</th>\n",
       "      <th>Tags</th>\n",
       "      <th>Id_of_user_who_answered_question</th>\n",
       "      <th>A_CreationDate</th>\n",
       "      <th>A_Score</th>\n",
       "      <th>Answers</th>\n",
       "    </tr>\n",
       "  </thead>\n",
       "  <tbody>\n",
       "    <tr>\n",
       "      <th>0</th>\n",
       "      <td>83.0</td>\n",
       "      <td>2008-08-01 15:50:08+00:00</td>\n",
       "      <td>NaT</td>\n",
       "      <td>21</td>\n",
       "      <td>asp_net site maps</td>\n",
       "      <td>has anyone got experience creating sql_based a...</td>\n",
       "      <td>sql</td>\n",
       "      <td>12734</td>\n",
       "      <td>2008-09-23 22:41:11+00:00</td>\n",
       "      <td>9</td>\n",
       "      <td>the jeff prosise version from msdn magazine wo...</td>\n",
       "    </tr>\n",
       "    <tr>\n",
       "      <th>1</th>\n",
       "      <td>116.0</td>\n",
       "      <td>2008-08-05 06:39:31+00:00</td>\n",
       "      <td>NaT</td>\n",
       "      <td>10</td>\n",
       "      <td>what language do you use for postgresql trigge...</td>\n",
       "      <td>postgresql is interesting in that it supports ...</td>\n",
       "      <td>sql</td>\n",
       "      <td>269</td>\n",
       "      <td>2008-08-05 06:43:30+00:00</td>\n",
       "      <td>3</td>\n",
       "      <td>when i wrote my first trigger it was in perl b...</td>\n",
       "    </tr>\n",
       "    <tr>\n",
       "      <th>2</th>\n",
       "      <td>116.0</td>\n",
       "      <td>2008-08-05 06:39:31+00:00</td>\n",
       "      <td>NaT</td>\n",
       "      <td>10</td>\n",
       "      <td>what language do you use for postgresql trigge...</td>\n",
       "      <td>postgresql is interesting in that it supports ...</td>\n",
       "      <td>sql</td>\n",
       "      <td>277</td>\n",
       "      <td>2008-08-06 14:26:08+00:00</td>\n",
       "      <td>5</td>\n",
       "      <td>i have only really used pl_pgsql_ but that was...</td>\n",
       "    </tr>\n",
       "    <tr>\n",
       "      <th>3</th>\n",
       "      <td>116.0</td>\n",
       "      <td>2008-08-05 06:39:31+00:00</td>\n",
       "      <td>NaT</td>\n",
       "      <td>10</td>\n",
       "      <td>what language do you use for postgresql trigge...</td>\n",
       "      <td>postgresql is interesting in that it supports ...</td>\n",
       "      <td>sql</td>\n",
       "      <td>1081</td>\n",
       "      <td>2008-09-12 15:39:39+00:00</td>\n",
       "      <td>2</td>\n",
       "      <td>skype uses postgresql together with python_ an...</td>\n",
       "    </tr>\n",
       "    <tr>\n",
       "      <th>4</th>\n",
       "      <td>116.0</td>\n",
       "      <td>2008-08-05 06:39:31+00:00</td>\n",
       "      <td>NaT</td>\n",
       "      <td>10</td>\n",
       "      <td>what language do you use for postgresql trigge...</td>\n",
       "      <td>postgresql is interesting in that it supports ...</td>\n",
       "      <td>sql</td>\n",
       "      <td>11116</td>\n",
       "      <td>2008-09-16 05:43:22+00:00</td>\n",
       "      <td>4</td>\n",
       "      <td>i write pretty much everything in plpgsql_ but...</td>\n",
       "    </tr>\n",
       "  </tbody>\n",
       "</table>\n",
       "</div>"
      ],
      "text/plain": [
       "   Id_of_user_who_asked_question  ...                                            Answers\n",
       "0                           83.0  ...  the jeff prosise version from msdn magazine wo...\n",
       "1                          116.0  ...  when i wrote my first trigger it was in perl b...\n",
       "2                          116.0  ...  i have only really used pl_pgsql_ but that was...\n",
       "3                          116.0  ...  skype uses postgresql together with python_ an...\n",
       "4                          116.0  ...  i write pretty much everything in plpgsql_ but...\n",
       "\n",
       "[5 rows x 11 columns]"
      ]
     },
     "execution_count": 64,
     "metadata": {
      "tags": []
     },
     "output_type": "execute_result"
    }
   ],
   "source": [
    "df.head()"
   ]
  },
  {
   "cell_type": "code",
   "execution_count": 65,
   "metadata": {
    "id": "B3RiNo9i9aXd"
   },
   "outputs": [],
   "source": [
    "df.rename(columns={\"Id_of_user_who_answered_question\":\"id\"},inplace = True)"
   ]
  },
  {
   "cell_type": "code",
   "execution_count": 66,
   "metadata": {
    "colab": {
     "base_uri": "https://localhost:8080/",
     "height": 363
    },
    "id": "2dXwvSGg-jFs",
    "outputId": "273f8173-64e2-437a-db1c-9991cbef4741"
   },
   "outputs": [
    {
     "data": {
      "text/html": [
       "<div>\n",
       "<style scoped>\n",
       "    .dataframe tbody tr th:only-of-type {\n",
       "        vertical-align: middle;\n",
       "    }\n",
       "\n",
       "    .dataframe tbody tr th {\n",
       "        vertical-align: top;\n",
       "    }\n",
       "\n",
       "    .dataframe thead th {\n",
       "        text-align: right;\n",
       "    }\n",
       "</style>\n",
       "<table border=\"1\" class=\"dataframe\">\n",
       "  <thead>\n",
       "    <tr style=\"text-align: right;\">\n",
       "      <th></th>\n",
       "      <th>Id_of_user_who_asked_question</th>\n",
       "      <th>Q_CreationDate</th>\n",
       "      <th>Q_ClosedDate</th>\n",
       "      <th>Q_Score</th>\n",
       "      <th>Title</th>\n",
       "      <th>Questions</th>\n",
       "      <th>Tags</th>\n",
       "      <th>id</th>\n",
       "      <th>A_CreationDate</th>\n",
       "      <th>A_Score</th>\n",
       "      <th>Answers</th>\n",
       "    </tr>\n",
       "  </thead>\n",
       "  <tbody>\n",
       "    <tr>\n",
       "      <th>0</th>\n",
       "      <td>83.0</td>\n",
       "      <td>2008-08-01 15:50:08+00:00</td>\n",
       "      <td>NaT</td>\n",
       "      <td>21</td>\n",
       "      <td>asp_net site maps</td>\n",
       "      <td>has anyone got experience creating sql_based a...</td>\n",
       "      <td>sql</td>\n",
       "      <td>12734</td>\n",
       "      <td>2008-09-23 22:41:11+00:00</td>\n",
       "      <td>9</td>\n",
       "      <td>the jeff prosise version from msdn magazine wo...</td>\n",
       "    </tr>\n",
       "    <tr>\n",
       "      <th>1</th>\n",
       "      <td>116.0</td>\n",
       "      <td>2008-08-05 06:39:31+00:00</td>\n",
       "      <td>NaT</td>\n",
       "      <td>10</td>\n",
       "      <td>what language do you use for postgresql trigge...</td>\n",
       "      <td>postgresql is interesting in that it supports ...</td>\n",
       "      <td>sql</td>\n",
       "      <td>269</td>\n",
       "      <td>2008-08-05 06:43:30+00:00</td>\n",
       "      <td>3</td>\n",
       "      <td>when i wrote my first trigger it was in perl b...</td>\n",
       "    </tr>\n",
       "    <tr>\n",
       "      <th>2</th>\n",
       "      <td>116.0</td>\n",
       "      <td>2008-08-05 06:39:31+00:00</td>\n",
       "      <td>NaT</td>\n",
       "      <td>10</td>\n",
       "      <td>what language do you use for postgresql trigge...</td>\n",
       "      <td>postgresql is interesting in that it supports ...</td>\n",
       "      <td>sql</td>\n",
       "      <td>277</td>\n",
       "      <td>2008-08-06 14:26:08+00:00</td>\n",
       "      <td>5</td>\n",
       "      <td>i have only really used pl_pgsql_ but that was...</td>\n",
       "    </tr>\n",
       "    <tr>\n",
       "      <th>3</th>\n",
       "      <td>116.0</td>\n",
       "      <td>2008-08-05 06:39:31+00:00</td>\n",
       "      <td>NaT</td>\n",
       "      <td>10</td>\n",
       "      <td>what language do you use for postgresql trigge...</td>\n",
       "      <td>postgresql is interesting in that it supports ...</td>\n",
       "      <td>sql</td>\n",
       "      <td>1081</td>\n",
       "      <td>2008-09-12 15:39:39+00:00</td>\n",
       "      <td>2</td>\n",
       "      <td>skype uses postgresql together with python_ an...</td>\n",
       "    </tr>\n",
       "    <tr>\n",
       "      <th>4</th>\n",
       "      <td>116.0</td>\n",
       "      <td>2008-08-05 06:39:31+00:00</td>\n",
       "      <td>NaT</td>\n",
       "      <td>10</td>\n",
       "      <td>what language do you use for postgresql trigge...</td>\n",
       "      <td>postgresql is interesting in that it supports ...</td>\n",
       "      <td>sql</td>\n",
       "      <td>11116</td>\n",
       "      <td>2008-09-16 05:43:22+00:00</td>\n",
       "      <td>4</td>\n",
       "      <td>i write pretty much everything in plpgsql_ but...</td>\n",
       "    </tr>\n",
       "  </tbody>\n",
       "</table>\n",
       "</div>"
      ],
      "text/plain": [
       "   Id_of_user_who_asked_question  ...                                            Answers\n",
       "0                           83.0  ...  the jeff prosise version from msdn magazine wo...\n",
       "1                          116.0  ...  when i wrote my first trigger it was in perl b...\n",
       "2                          116.0  ...  i have only really used pl_pgsql_ but that was...\n",
       "3                          116.0  ...  skype uses postgresql together with python_ an...\n",
       "4                          116.0  ...  i write pretty much everything in plpgsql_ but...\n",
       "\n",
       "[5 rows x 11 columns]"
      ]
     },
     "execution_count": 66,
     "metadata": {
      "tags": []
     },
     "output_type": "execute_result"
    }
   ],
   "source": [
    "df.head()"
   ]
  },
  {
   "cell_type": "code",
   "execution_count": 67,
   "metadata": {
    "id": "j36qZCDS_DO_"
   },
   "outputs": [],
   "source": [
    "Dataset = df.merge(users, on='id')"
   ]
  },
  {
   "cell_type": "code",
   "execution_count": 68,
   "metadata": {
    "colab": {
     "base_uri": "https://localhost:8080/",
     "height": 442
    },
    "id": "c9qWendgk1xf",
    "outputId": "2d65033a-9b17-42ef-8b98-79bd5535b8c1"
   },
   "outputs": [
    {
     "data": {
      "text/html": [
       "<div>\n",
       "<style scoped>\n",
       "    .dataframe tbody tr th:only-of-type {\n",
       "        vertical-align: middle;\n",
       "    }\n",
       "\n",
       "    .dataframe tbody tr th {\n",
       "        vertical-align: top;\n",
       "    }\n",
       "\n",
       "    .dataframe thead th {\n",
       "        text-align: right;\n",
       "    }\n",
       "</style>\n",
       "<table border=\"1\" class=\"dataframe\">\n",
       "  <thead>\n",
       "    <tr style=\"text-align: right;\">\n",
       "      <th></th>\n",
       "      <th>Id_of_user_who_asked_question</th>\n",
       "      <th>Q_CreationDate</th>\n",
       "      <th>Q_ClosedDate</th>\n",
       "      <th>Q_Score</th>\n",
       "      <th>Title</th>\n",
       "      <th>Questions</th>\n",
       "      <th>Tags</th>\n",
       "      <th>id</th>\n",
       "      <th>A_CreationDate</th>\n",
       "      <th>A_Score</th>\n",
       "      <th>Answers</th>\n",
       "      <th>display_name</th>\n",
       "      <th>creation_date</th>\n",
       "      <th>last_access_date</th>\n",
       "      <th>reputation</th>\n",
       "      <th>up_votes</th>\n",
       "      <th>down_votes</th>\n",
       "      <th>views</th>\n",
       "    </tr>\n",
       "  </thead>\n",
       "  <tbody>\n",
       "    <tr>\n",
       "      <th>0</th>\n",
       "      <td>83.0</td>\n",
       "      <td>2008-08-01 15:50:08+00:00</td>\n",
       "      <td>NaT</td>\n",
       "      <td>21</td>\n",
       "      <td>asp_net site maps</td>\n",
       "      <td>has anyone got experience creating sql_based a...</td>\n",
       "      <td>sql</td>\n",
       "      <td>12734</td>\n",
       "      <td>2008-09-23 22:41:11+00:00</td>\n",
       "      <td>9</td>\n",
       "      <td>the jeff prosise version from msdn magazine wo...</td>\n",
       "      <td>Kelly Adams</td>\n",
       "      <td>2008-09-16 15:27:55.78 UTC</td>\n",
       "      <td>2019-08-29 19:59:10.743 UTC</td>\n",
       "      <td>695</td>\n",
       "      <td>35</td>\n",
       "      <td>0</td>\n",
       "      <td>105</td>\n",
       "    </tr>\n",
       "    <tr>\n",
       "      <th>1</th>\n",
       "      <td>116.0</td>\n",
       "      <td>2008-08-05 06:39:31+00:00</td>\n",
       "      <td>NaT</td>\n",
       "      <td>10</td>\n",
       "      <td>what language do you use for postgresql trigge...</td>\n",
       "      <td>postgresql is interesting in that it supports ...</td>\n",
       "      <td>sql</td>\n",
       "      <td>269</td>\n",
       "      <td>2008-08-05 06:43:30+00:00</td>\n",
       "      <td>3</td>\n",
       "      <td>when i wrote my first trigger it was in perl b...</td>\n",
       "      <td>sparkes</td>\n",
       "      <td>2008-08-04 10:13:44.767 UTC</td>\n",
       "      <td>2008-09-30 07:30:19.52 UTC</td>\n",
       "      <td>14710</td>\n",
       "      <td>330</td>\n",
       "      <td>37</td>\n",
       "      <td>549</td>\n",
       "    </tr>\n",
       "    <tr>\n",
       "      <th>2</th>\n",
       "      <td>116.0</td>\n",
       "      <td>2008-08-05 06:39:31+00:00</td>\n",
       "      <td>NaT</td>\n",
       "      <td>10</td>\n",
       "      <td>what language do you use for postgresql trigge...</td>\n",
       "      <td>postgresql is interesting in that it supports ...</td>\n",
       "      <td>sql</td>\n",
       "      <td>277</td>\n",
       "      <td>2008-08-06 14:26:08+00:00</td>\n",
       "      <td>5</td>\n",
       "      <td>i have only really used pl_pgsql_ but that was...</td>\n",
       "      <td>kaybenleroll</td>\n",
       "      <td>2008-08-04 10:55:22.093 UTC</td>\n",
       "      <td>2019-08-29 13:42:38.157 UTC</td>\n",
       "      <td>7980</td>\n",
       "      <td>878</td>\n",
       "      <td>5</td>\n",
       "      <td>534</td>\n",
       "    </tr>\n",
       "  </tbody>\n",
       "</table>\n",
       "</div>"
      ],
      "text/plain": [
       "   Id_of_user_who_asked_question            Q_CreationDate  ... down_votes  views\n",
       "0                           83.0 2008-08-01 15:50:08+00:00  ...          0    105\n",
       "1                          116.0 2008-08-05 06:39:31+00:00  ...         37    549\n",
       "2                          116.0 2008-08-05 06:39:31+00:00  ...          5    534\n",
       "\n",
       "[3 rows x 18 columns]"
      ]
     },
     "execution_count": 68,
     "metadata": {
      "tags": []
     },
     "output_type": "execute_result"
    }
   ],
   "source": [
    "Dataset.head(3)"
   ]
  },
  {
   "cell_type": "code",
   "execution_count": 69,
   "metadata": {
    "id": "Jjjkl0oYk3rf"
   },
   "outputs": [],
   "source": [
    "Dataset = Dataset.drop(['creation_date','last_access_date','reputation','up_votes','down_votes','views'],axis=1)"
   ]
  },
  {
   "cell_type": "code",
   "execution_count": 70,
   "metadata": {
    "colab": {
     "base_uri": "https://localhost:8080/",
     "height": 190
    },
    "id": "xqQ62240lh8-",
    "outputId": "c7f5df9d-597d-45df-bb4e-9bbedcdb40de"
   },
   "outputs": [
    {
     "data": {
      "text/html": [
       "<div>\n",
       "<style scoped>\n",
       "    .dataframe tbody tr th:only-of-type {\n",
       "        vertical-align: middle;\n",
       "    }\n",
       "\n",
       "    .dataframe tbody tr th {\n",
       "        vertical-align: top;\n",
       "    }\n",
       "\n",
       "    .dataframe thead th {\n",
       "        text-align: right;\n",
       "    }\n",
       "</style>\n",
       "<table border=\"1\" class=\"dataframe\">\n",
       "  <thead>\n",
       "    <tr style=\"text-align: right;\">\n",
       "      <th></th>\n",
       "      <th>Id_of_user_who_asked_question</th>\n",
       "      <th>Q_CreationDate</th>\n",
       "      <th>Q_ClosedDate</th>\n",
       "      <th>Q_Score</th>\n",
       "      <th>Title</th>\n",
       "      <th>Questions</th>\n",
       "      <th>Tags</th>\n",
       "      <th>id</th>\n",
       "      <th>A_CreationDate</th>\n",
       "      <th>A_Score</th>\n",
       "      <th>Answers</th>\n",
       "      <th>display_name</th>\n",
       "    </tr>\n",
       "  </thead>\n",
       "  <tbody>\n",
       "    <tr>\n",
       "      <th>0</th>\n",
       "      <td>83.0</td>\n",
       "      <td>2008-08-01 15:50:08+00:00</td>\n",
       "      <td>NaT</td>\n",
       "      <td>21</td>\n",
       "      <td>asp_net site maps</td>\n",
       "      <td>has anyone got experience creating sql_based a...</td>\n",
       "      <td>sql</td>\n",
       "      <td>12734</td>\n",
       "      <td>2008-09-23 22:41:11+00:00</td>\n",
       "      <td>9</td>\n",
       "      <td>the jeff prosise version from msdn magazine wo...</td>\n",
       "      <td>Kelly Adams</td>\n",
       "    </tr>\n",
       "    <tr>\n",
       "      <th>1</th>\n",
       "      <td>116.0</td>\n",
       "      <td>2008-08-05 06:39:31+00:00</td>\n",
       "      <td>NaT</td>\n",
       "      <td>10</td>\n",
       "      <td>what language do you use for postgresql trigge...</td>\n",
       "      <td>postgresql is interesting in that it supports ...</td>\n",
       "      <td>sql</td>\n",
       "      <td>269</td>\n",
       "      <td>2008-08-05 06:43:30+00:00</td>\n",
       "      <td>3</td>\n",
       "      <td>when i wrote my first trigger it was in perl b...</td>\n",
       "      <td>sparkes</td>\n",
       "    </tr>\n",
       "  </tbody>\n",
       "</table>\n",
       "</div>"
      ],
      "text/plain": [
       "   Id_of_user_who_asked_question  ... display_name\n",
       "0                           83.0  ...  Kelly Adams\n",
       "1                          116.0  ...      sparkes\n",
       "\n",
       "[2 rows x 12 columns]"
      ]
     },
     "execution_count": 70,
     "metadata": {
      "tags": []
     },
     "output_type": "execute_result"
    }
   ],
   "source": [
    "Dataset.head(2)"
   ]
  },
  {
   "cell_type": "code",
   "execution_count": 71,
   "metadata": {
    "id": "yZj09OwUlkde"
   },
   "outputs": [],
   "source": [
    "Dataset.rename(columns={\"display_name\":\"Answers given by\"},inplace = True)"
   ]
  },
  {
   "cell_type": "code",
   "execution_count": 72,
   "metadata": {
    "id": "wtxpYSphmHd-"
   },
   "outputs": [],
   "source": [
    "users.rename(columns={'id':\"Id_of_user_who_asked_question\"},inplace=True)"
   ]
  },
  {
   "cell_type": "code",
   "execution_count": 73,
   "metadata": {
    "id": "6nz1cGXcmrfm"
   },
   "outputs": [],
   "source": [
    "Dataset = Dataset.merge(users,on=\"Id_of_user_who_asked_question\")"
   ]
  },
  {
   "cell_type": "code",
   "execution_count": 74,
   "metadata": {
    "colab": {
     "base_uri": "https://localhost:8080/",
     "height": 345
    },
    "id": "PRq7DymMm3Pv",
    "outputId": "81a47f28-d4e5-4bf0-e8a0-5cf114953948"
   },
   "outputs": [
    {
     "data": {
      "text/html": [
       "<div>\n",
       "<style scoped>\n",
       "    .dataframe tbody tr th:only-of-type {\n",
       "        vertical-align: middle;\n",
       "    }\n",
       "\n",
       "    .dataframe tbody tr th {\n",
       "        vertical-align: top;\n",
       "    }\n",
       "\n",
       "    .dataframe thead th {\n",
       "        text-align: right;\n",
       "    }\n",
       "</style>\n",
       "<table border=\"1\" class=\"dataframe\">\n",
       "  <thead>\n",
       "    <tr style=\"text-align: right;\">\n",
       "      <th></th>\n",
       "      <th>Id_of_user_who_asked_question</th>\n",
       "      <th>Q_CreationDate</th>\n",
       "      <th>Q_ClosedDate</th>\n",
       "      <th>Q_Score</th>\n",
       "      <th>Title</th>\n",
       "      <th>Questions</th>\n",
       "      <th>Tags</th>\n",
       "      <th>id</th>\n",
       "      <th>A_CreationDate</th>\n",
       "      <th>A_Score</th>\n",
       "      <th>Answers</th>\n",
       "      <th>Answers given by</th>\n",
       "      <th>display_name</th>\n",
       "      <th>creation_date</th>\n",
       "      <th>last_access_date</th>\n",
       "      <th>reputation</th>\n",
       "      <th>up_votes</th>\n",
       "      <th>down_votes</th>\n",
       "      <th>views</th>\n",
       "    </tr>\n",
       "  </thead>\n",
       "  <tbody>\n",
       "    <tr>\n",
       "      <th>0</th>\n",
       "      <td>83.0</td>\n",
       "      <td>2008-08-01 15:50:08+00:00</td>\n",
       "      <td>NaT</td>\n",
       "      <td>21</td>\n",
       "      <td>asp_net site maps</td>\n",
       "      <td>has anyone got experience creating sql_based a...</td>\n",
       "      <td>sql</td>\n",
       "      <td>12734</td>\n",
       "      <td>2008-09-23 22:41:11+00:00</td>\n",
       "      <td>9</td>\n",
       "      <td>the jeff prosise version from msdn magazine wo...</td>\n",
       "      <td>Kelly Adams</td>\n",
       "      <td>Zack Peterson</td>\n",
       "      <td>2008-08-01 16:31:56.94 UTC</td>\n",
       "      <td>2019-08-27 20:25:33.09 UTC</td>\n",
       "      <td>31853</td>\n",
       "      <td>1966</td>\n",
       "      <td>63</td>\n",
       "      <td>2886</td>\n",
       "    </tr>\n",
       "    <tr>\n",
       "      <th>1</th>\n",
       "      <td>116.0</td>\n",
       "      <td>2008-08-05 06:39:31+00:00</td>\n",
       "      <td>NaT</td>\n",
       "      <td>10</td>\n",
       "      <td>what language do you use for postgresql trigge...</td>\n",
       "      <td>postgresql is interesting in that it supports ...</td>\n",
       "      <td>sql</td>\n",
       "      <td>269</td>\n",
       "      <td>2008-08-05 06:43:30+00:00</td>\n",
       "      <td>3</td>\n",
       "      <td>when i wrote my first trigger it was in perl b...</td>\n",
       "      <td>sparkes</td>\n",
       "      <td>Mark Harrison</td>\n",
       "      <td>2008-08-02 05:51:57.153 UTC</td>\n",
       "      <td>2019-09-01 02:39:46.78 UTC</td>\n",
       "      <td>181436</td>\n",
       "      <td>2537</td>\n",
       "      <td>39</td>\n",
       "      <td>19386</td>\n",
       "    </tr>\n",
       "  </tbody>\n",
       "</table>\n",
       "</div>"
      ],
      "text/plain": [
       "   Id_of_user_who_asked_question            Q_CreationDate  ... down_votes  views\n",
       "0                           83.0 2008-08-01 15:50:08+00:00  ...         63   2886\n",
       "1                          116.0 2008-08-05 06:39:31+00:00  ...         39  19386\n",
       "\n",
       "[2 rows x 19 columns]"
      ]
     },
     "execution_count": 74,
     "metadata": {
      "tags": []
     },
     "output_type": "execute_result"
    }
   ],
   "source": [
    "Dataset.head(2)"
   ]
  },
  {
   "cell_type": "code",
   "execution_count": 75,
   "metadata": {
    "id": "wMqLJMBGm5T5"
   },
   "outputs": [],
   "source": [
    "Dataset.rename(columns={\"display_name\":\"Questions asked by\"},inplace = True)"
   ]
  },
  {
   "cell_type": "code",
   "execution_count": 76,
   "metadata": {
    "id": "_FAFEN5XnM6y"
   },
   "outputs": [],
   "source": [
    "Dataset = Dataset.drop(['creation_date','last_access_date','reputation','up_votes','down_votes','views'],axis=1)"
   ]
  },
  {
   "cell_type": "code",
   "execution_count": 77,
   "metadata": {
    "id": "Pm8kgHUenNqn"
   },
   "outputs": [],
   "source": [
    "Dataset = Dataset.drop(['Id_of_user_who_asked_question','Q_Score',\"A_Score\"],axis=1)"
   ]
  },
  {
   "cell_type": "code",
   "execution_count": 78,
   "metadata": {
    "colab": {
     "base_uri": "https://localhost:8080/",
     "height": 203
    },
    "id": "W1OGD_QwnQAB",
    "outputId": "32747821-b5b2-4c19-ac99-6953ed61bcea"
   },
   "outputs": [
    {
     "data": {
      "text/html": [
       "<div>\n",
       "<style scoped>\n",
       "    .dataframe tbody tr th:only-of-type {\n",
       "        vertical-align: middle;\n",
       "    }\n",
       "\n",
       "    .dataframe tbody tr th {\n",
       "        vertical-align: top;\n",
       "    }\n",
       "\n",
       "    .dataframe thead th {\n",
       "        text-align: right;\n",
       "    }\n",
       "</style>\n",
       "<table border=\"1\" class=\"dataframe\">\n",
       "  <thead>\n",
       "    <tr style=\"text-align: right;\">\n",
       "      <th></th>\n",
       "      <th>Q_CreationDate</th>\n",
       "      <th>Q_ClosedDate</th>\n",
       "      <th>Title</th>\n",
       "      <th>Questions</th>\n",
       "      <th>Tags</th>\n",
       "      <th>id</th>\n",
       "      <th>A_CreationDate</th>\n",
       "      <th>Answers</th>\n",
       "      <th>Answers given by</th>\n",
       "      <th>Questions asked by</th>\n",
       "    </tr>\n",
       "  </thead>\n",
       "  <tbody>\n",
       "    <tr>\n",
       "      <th>0</th>\n",
       "      <td>2008-08-01 15:50:08+00:00</td>\n",
       "      <td>NaT</td>\n",
       "      <td>asp_net site maps</td>\n",
       "      <td>has anyone got experience creating sql_based a...</td>\n",
       "      <td>sql</td>\n",
       "      <td>12734</td>\n",
       "      <td>2008-09-23 22:41:11+00:00</td>\n",
       "      <td>the jeff prosise version from msdn magazine wo...</td>\n",
       "      <td>Kelly Adams</td>\n",
       "      <td>Zack Peterson</td>\n",
       "    </tr>\n",
       "    <tr>\n",
       "      <th>1</th>\n",
       "      <td>2008-08-05 06:39:31+00:00</td>\n",
       "      <td>NaT</td>\n",
       "      <td>what language do you use for postgresql trigge...</td>\n",
       "      <td>postgresql is interesting in that it supports ...</td>\n",
       "      <td>sql</td>\n",
       "      <td>269</td>\n",
       "      <td>2008-08-05 06:43:30+00:00</td>\n",
       "      <td>when i wrote my first trigger it was in perl b...</td>\n",
       "      <td>sparkes</td>\n",
       "      <td>Mark Harrison</td>\n",
       "    </tr>\n",
       "    <tr>\n",
       "      <th>2</th>\n",
       "      <td>2008-08-05 06:39:31+00:00</td>\n",
       "      <td>NaT</td>\n",
       "      <td>what language do you use for postgresql trigge...</td>\n",
       "      <td>postgresql is interesting in that it supports ...</td>\n",
       "      <td>sql</td>\n",
       "      <td>277</td>\n",
       "      <td>2008-08-06 14:26:08+00:00</td>\n",
       "      <td>i have only really used pl_pgsql_ but that was...</td>\n",
       "      <td>kaybenleroll</td>\n",
       "      <td>Mark Harrison</td>\n",
       "    </tr>\n",
       "  </tbody>\n",
       "</table>\n",
       "</div>"
      ],
      "text/plain": [
       "             Q_CreationDate Q_ClosedDate  ... Answers given by Questions asked by\n",
       "0 2008-08-01 15:50:08+00:00          NaT  ...      Kelly Adams      Zack Peterson\n",
       "1 2008-08-05 06:39:31+00:00          NaT  ...          sparkes      Mark Harrison\n",
       "2 2008-08-05 06:39:31+00:00          NaT  ...     kaybenleroll      Mark Harrison\n",
       "\n",
       "[3 rows x 10 columns]"
      ]
     },
     "execution_count": 78,
     "metadata": {
      "tags": []
     },
     "output_type": "execute_result"
    }
   ],
   "source": [
    "Dataset.head(3)"
   ]
  },
  {
   "cell_type": "code",
   "execution_count": 79,
   "metadata": {
    "id": "HhARkGmsn0GK"
   },
   "outputs": [],
   "source": [
    "Dataset = Dataset.drop(\"Q_ClosedDate\",axis=1)"
   ]
  },
  {
   "cell_type": "code",
   "execution_count": 80,
   "metadata": {
    "colab": {
     "base_uri": "https://localhost:8080/",
     "height": 157
    },
    "id": "JjLEhVgCn87y",
    "outputId": "f8babbf1-3f84-4354-91d4-e44fc84f31b5"
   },
   "outputs": [
    {
     "data": {
      "text/html": [
       "<div>\n",
       "<style scoped>\n",
       "    .dataframe tbody tr th:only-of-type {\n",
       "        vertical-align: middle;\n",
       "    }\n",
       "\n",
       "    .dataframe tbody tr th {\n",
       "        vertical-align: top;\n",
       "    }\n",
       "\n",
       "    .dataframe thead th {\n",
       "        text-align: right;\n",
       "    }\n",
       "</style>\n",
       "<table border=\"1\" class=\"dataframe\">\n",
       "  <thead>\n",
       "    <tr style=\"text-align: right;\">\n",
       "      <th></th>\n",
       "      <th>Q_CreationDate</th>\n",
       "      <th>Title</th>\n",
       "      <th>Questions</th>\n",
       "      <th>Tags</th>\n",
       "      <th>id</th>\n",
       "      <th>A_CreationDate</th>\n",
       "      <th>Answers</th>\n",
       "      <th>Answers given by</th>\n",
       "      <th>Questions asked by</th>\n",
       "    </tr>\n",
       "  </thead>\n",
       "  <tbody>\n",
       "    <tr>\n",
       "      <th>0</th>\n",
       "      <td>2008-08-01 15:50:08+00:00</td>\n",
       "      <td>asp_net site maps</td>\n",
       "      <td>has anyone got experience creating sql_based a...</td>\n",
       "      <td>sql</td>\n",
       "      <td>12734</td>\n",
       "      <td>2008-09-23 22:41:11+00:00</td>\n",
       "      <td>the jeff prosise version from msdn magazine wo...</td>\n",
       "      <td>Kelly Adams</td>\n",
       "      <td>Zack Peterson</td>\n",
       "    </tr>\n",
       "    <tr>\n",
       "      <th>1</th>\n",
       "      <td>2008-08-05 06:39:31+00:00</td>\n",
       "      <td>what language do you use for postgresql trigge...</td>\n",
       "      <td>postgresql is interesting in that it supports ...</td>\n",
       "      <td>sql</td>\n",
       "      <td>269</td>\n",
       "      <td>2008-08-05 06:43:30+00:00</td>\n",
       "      <td>when i wrote my first trigger it was in perl b...</td>\n",
       "      <td>sparkes</td>\n",
       "      <td>Mark Harrison</td>\n",
       "    </tr>\n",
       "  </tbody>\n",
       "</table>\n",
       "</div>"
      ],
      "text/plain": [
       "             Q_CreationDate  ... Questions asked by\n",
       "0 2008-08-01 15:50:08+00:00  ...      Zack Peterson\n",
       "1 2008-08-05 06:39:31+00:00  ...      Mark Harrison\n",
       "\n",
       "[2 rows x 9 columns]"
      ]
     },
     "execution_count": 80,
     "metadata": {
      "tags": []
     },
     "output_type": "execute_result"
    }
   ],
   "source": [
    "Dataset.head(2)"
   ]
  },
  {
   "cell_type": "code",
   "execution_count": 81,
   "metadata": {
    "id": "Vr8QDZz7n_ya"
   },
   "outputs": [],
   "source": [
    "Dataset[\"Estimate_Time\"] = Dataset[\"A_CreationDate\"]-Dataset[\"Q_CreationDate\"]"
   ]
  },
  {
   "cell_type": "code",
   "execution_count": 82,
   "metadata": {
    "colab": {
     "base_uri": "https://localhost:8080/",
     "height": 296
    },
    "id": "dwn4ZEIEofyI",
    "outputId": "d48f8cdc-3f75-4481-d3dc-0671e070c99e"
   },
   "outputs": [
    {
     "data": {
      "text/html": [
       "<div>\n",
       "<style scoped>\n",
       "    .dataframe tbody tr th:only-of-type {\n",
       "        vertical-align: middle;\n",
       "    }\n",
       "\n",
       "    .dataframe tbody tr th {\n",
       "        vertical-align: top;\n",
       "    }\n",
       "\n",
       "    .dataframe thead th {\n",
       "        text-align: right;\n",
       "    }\n",
       "</style>\n",
       "<table border=\"1\" class=\"dataframe\">\n",
       "  <thead>\n",
       "    <tr style=\"text-align: right;\">\n",
       "      <th></th>\n",
       "      <th>Q_CreationDate</th>\n",
       "      <th>Title</th>\n",
       "      <th>Questions</th>\n",
       "      <th>Tags</th>\n",
       "      <th>id</th>\n",
       "      <th>A_CreationDate</th>\n",
       "      <th>Answers</th>\n",
       "      <th>Answers given by</th>\n",
       "      <th>Questions asked by</th>\n",
       "      <th>Estimate_Time</th>\n",
       "    </tr>\n",
       "  </thead>\n",
       "  <tbody>\n",
       "    <tr>\n",
       "      <th>0</th>\n",
       "      <td>2008-08-01 15:50:08+00:00</td>\n",
       "      <td>asp_net site maps</td>\n",
       "      <td>has anyone got experience creating sql_based a...</td>\n",
       "      <td>sql</td>\n",
       "      <td>12734</td>\n",
       "      <td>2008-09-23 22:41:11+00:00</td>\n",
       "      <td>the jeff prosise version from msdn magazine wo...</td>\n",
       "      <td>Kelly Adams</td>\n",
       "      <td>Zack Peterson</td>\n",
       "      <td>53 days 06:51:03</td>\n",
       "    </tr>\n",
       "    <tr>\n",
       "      <th>1</th>\n",
       "      <td>2008-08-05 06:39:31+00:00</td>\n",
       "      <td>what language do you use for postgresql trigge...</td>\n",
       "      <td>postgresql is interesting in that it supports ...</td>\n",
       "      <td>sql</td>\n",
       "      <td>269</td>\n",
       "      <td>2008-08-05 06:43:30+00:00</td>\n",
       "      <td>when i wrote my first trigger it was in perl b...</td>\n",
       "      <td>sparkes</td>\n",
       "      <td>Mark Harrison</td>\n",
       "      <td>0 days 00:03:59</td>\n",
       "    </tr>\n",
       "    <tr>\n",
       "      <th>2</th>\n",
       "      <td>2008-08-05 06:39:31+00:00</td>\n",
       "      <td>what language do you use for postgresql trigge...</td>\n",
       "      <td>postgresql is interesting in that it supports ...</td>\n",
       "      <td>sql</td>\n",
       "      <td>277</td>\n",
       "      <td>2008-08-06 14:26:08+00:00</td>\n",
       "      <td>i have only really used pl_pgsql_ but that was...</td>\n",
       "      <td>kaybenleroll</td>\n",
       "      <td>Mark Harrison</td>\n",
       "      <td>1 days 07:46:37</td>\n",
       "    </tr>\n",
       "    <tr>\n",
       "      <th>3</th>\n",
       "      <td>2008-08-05 06:39:31+00:00</td>\n",
       "      <td>what language do you use for postgresql trigge...</td>\n",
       "      <td>postgresql is interesting in that it supports ...</td>\n",
       "      <td>sql</td>\n",
       "      <td>1081</td>\n",
       "      <td>2008-09-12 15:39:39+00:00</td>\n",
       "      <td>skype uses postgresql together with python_ an...</td>\n",
       "      <td>dpavlin</td>\n",
       "      <td>Mark Harrison</td>\n",
       "      <td>38 days 09:00:08</td>\n",
       "    </tr>\n",
       "    <tr>\n",
       "      <th>4</th>\n",
       "      <td>2008-08-05 06:39:31+00:00</td>\n",
       "      <td>what language do you use for postgresql trigge...</td>\n",
       "      <td>postgresql is interesting in that it supports ...</td>\n",
       "      <td>sql</td>\n",
       "      <td>11116</td>\n",
       "      <td>2008-09-16 05:43:22+00:00</td>\n",
       "      <td>i write pretty much everything in plpgsql_ but...</td>\n",
       "      <td>decibel</td>\n",
       "      <td>Mark Harrison</td>\n",
       "      <td>41 days 23:03:51</td>\n",
       "    </tr>\n",
       "  </tbody>\n",
       "</table>\n",
       "</div>"
      ],
      "text/plain": [
       "             Q_CreationDate  ...    Estimate_Time\n",
       "0 2008-08-01 15:50:08+00:00  ... 53 days 06:51:03\n",
       "1 2008-08-05 06:39:31+00:00  ...  0 days 00:03:59\n",
       "2 2008-08-05 06:39:31+00:00  ...  1 days 07:46:37\n",
       "3 2008-08-05 06:39:31+00:00  ... 38 days 09:00:08\n",
       "4 2008-08-05 06:39:31+00:00  ... 41 days 23:03:51\n",
       "\n",
       "[5 rows x 10 columns]"
      ]
     },
     "execution_count": 82,
     "metadata": {
      "tags": []
     },
     "output_type": "execute_result"
    }
   ],
   "source": [
    "Dataset.head()"
   ]
  },
  {
   "cell_type": "code",
   "execution_count": 83,
   "metadata": {
    "id": "hKGQwm-CohgN"
   },
   "outputs": [],
   "source": [
    "Dataset.drop([\"Q_CreationDate\",\"A_CreationDate\",\"id\"],axis=1, inplace=True)"
   ]
  },
  {
   "cell_type": "code",
   "execution_count": 84,
   "metadata": {
    "colab": {
     "base_uri": "https://localhost:8080/",
     "height": 296
    },
    "id": "9vwsHdGdpLqN",
    "outputId": "61f4b79f-ec0a-46c8-b068-6dd567eae6ef"
   },
   "outputs": [
    {
     "data": {
      "text/html": [
       "<div>\n",
       "<style scoped>\n",
       "    .dataframe tbody tr th:only-of-type {\n",
       "        vertical-align: middle;\n",
       "    }\n",
       "\n",
       "    .dataframe tbody tr th {\n",
       "        vertical-align: top;\n",
       "    }\n",
       "\n",
       "    .dataframe thead th {\n",
       "        text-align: right;\n",
       "    }\n",
       "</style>\n",
       "<table border=\"1\" class=\"dataframe\">\n",
       "  <thead>\n",
       "    <tr style=\"text-align: right;\">\n",
       "      <th></th>\n",
       "      <th>Title</th>\n",
       "      <th>Questions</th>\n",
       "      <th>Tags</th>\n",
       "      <th>Answers</th>\n",
       "      <th>Answers given by</th>\n",
       "      <th>Questions asked by</th>\n",
       "      <th>Estimate_Time</th>\n",
       "    </tr>\n",
       "  </thead>\n",
       "  <tbody>\n",
       "    <tr>\n",
       "      <th>0</th>\n",
       "      <td>asp_net site maps</td>\n",
       "      <td>has anyone got experience creating sql_based a...</td>\n",
       "      <td>sql</td>\n",
       "      <td>the jeff prosise version from msdn magazine wo...</td>\n",
       "      <td>Kelly Adams</td>\n",
       "      <td>Zack Peterson</td>\n",
       "      <td>53 days 06:51:03</td>\n",
       "    </tr>\n",
       "    <tr>\n",
       "      <th>1</th>\n",
       "      <td>what language do you use for postgresql trigge...</td>\n",
       "      <td>postgresql is interesting in that it supports ...</td>\n",
       "      <td>sql</td>\n",
       "      <td>when i wrote my first trigger it was in perl b...</td>\n",
       "      <td>sparkes</td>\n",
       "      <td>Mark Harrison</td>\n",
       "      <td>0 days 00:03:59</td>\n",
       "    </tr>\n",
       "    <tr>\n",
       "      <th>2</th>\n",
       "      <td>what language do you use for postgresql trigge...</td>\n",
       "      <td>postgresql is interesting in that it supports ...</td>\n",
       "      <td>sql</td>\n",
       "      <td>i have only really used pl_pgsql_ but that was...</td>\n",
       "      <td>kaybenleroll</td>\n",
       "      <td>Mark Harrison</td>\n",
       "      <td>1 days 07:46:37</td>\n",
       "    </tr>\n",
       "    <tr>\n",
       "      <th>3</th>\n",
       "      <td>what language do you use for postgresql trigge...</td>\n",
       "      <td>postgresql is interesting in that it supports ...</td>\n",
       "      <td>sql</td>\n",
       "      <td>skype uses postgresql together with python_ an...</td>\n",
       "      <td>dpavlin</td>\n",
       "      <td>Mark Harrison</td>\n",
       "      <td>38 days 09:00:08</td>\n",
       "    </tr>\n",
       "    <tr>\n",
       "      <th>4</th>\n",
       "      <td>what language do you use for postgresql trigge...</td>\n",
       "      <td>postgresql is interesting in that it supports ...</td>\n",
       "      <td>sql</td>\n",
       "      <td>i write pretty much everything in plpgsql_ but...</td>\n",
       "      <td>decibel</td>\n",
       "      <td>Mark Harrison</td>\n",
       "      <td>41 days 23:03:51</td>\n",
       "    </tr>\n",
       "  </tbody>\n",
       "</table>\n",
       "</div>"
      ],
      "text/plain": [
       "                                               Title  ...    Estimate_Time\n",
       "0                                  asp_net site maps  ... 53 days 06:51:03\n",
       "1  what language do you use for postgresql trigge...  ...  0 days 00:03:59\n",
       "2  what language do you use for postgresql trigge...  ...  1 days 07:46:37\n",
       "3  what language do you use for postgresql trigge...  ... 38 days 09:00:08\n",
       "4  what language do you use for postgresql trigge...  ... 41 days 23:03:51\n",
       "\n",
       "[5 rows x 7 columns]"
      ]
     },
     "execution_count": 84,
     "metadata": {
      "tags": []
     },
     "output_type": "execute_result"
    }
   ],
   "source": [
    "Dataset.head()"
   ]
  },
  {
   "cell_type": "code",
   "execution_count": 84,
   "metadata": {
    "id": "hrOefgAPpNgW"
   },
   "outputs": [],
   "source": []
  },
  {
   "cell_type": "code",
   "execution_count": 85,
   "metadata": {
    "colab": {
     "base_uri": "https://localhost:8080/"
    },
    "id": "wJWT3rnFrHKs",
    "outputId": "07931837-2dae-4484-8397-969edef9bc82"
   },
   "outputs": [
    {
     "data": {
      "text/plain": [
       "Title                  0\n",
       "Questions              0\n",
       "Tags                   0\n",
       "Answers                0\n",
       "Answers given by       2\n",
       "Questions asked by    12\n",
       "Estimate_Time          0\n",
       "dtype: int64"
      ]
     },
     "execution_count": 85,
     "metadata": {
      "tags": []
     },
     "output_type": "execute_result"
    }
   ],
   "source": [
    "Dataset.isnull().sum()"
   ]
  },
  {
   "cell_type": "code",
   "execution_count": 86,
   "metadata": {
    "id": "tdbUlIzqs8NE"
   },
   "outputs": [],
   "source": [
    "Dataset = Dataset[~Dataset[\"Answers given by\"].isnull()]"
   ]
  },
  {
   "cell_type": "code",
   "execution_count": 87,
   "metadata": {
    "id": "lKNFhlOVtOJX"
   },
   "outputs": [],
   "source": [
    "Dataset = Dataset[~Dataset[\"Questions asked by\"].isnull()]"
   ]
  },
  {
   "cell_type": "code",
   "execution_count": 89,
   "metadata": {
    "colab": {
     "base_uri": "https://localhost:8080/"
    },
    "id": "rI3j8iZovwgl",
    "outputId": "83e4963b-ccb6-4e99-9df8-90bf67935c1f"
   },
   "outputs": [
    {
     "data": {
      "text/plain": [
       "Title                 0\n",
       "Questions             0\n",
       "Tags                  0\n",
       "Answers               0\n",
       "Answers given by      0\n",
       "Questions asked by    0\n",
       "Estimate_Time         0\n",
       "dtype: int64"
      ]
     },
     "execution_count": 89,
     "metadata": {
      "tags": []
     },
     "output_type": "execute_result"
    }
   ],
   "source": [
    "Dataset.isnull().sum()"
   ]
  },
  {
   "cell_type": "markdown",
   "metadata": {
    "id": "FYXYTK861ieP"
   },
   "source": [
    "When a user raises a question with a data science tag ('python', 'r', 'matlab', 'sas', 'excel', 'sql'), then Stack Overflow sends the notification to the relevant users.\n",
    "\n"
   ]
  },
  {
   "cell_type": "code",
   "execution_count": 95,
   "metadata": {
    "colab": {
     "base_uri": "https://localhost:8080/",
     "height": 296
    },
    "id": "FgIa_FHE36zM",
    "outputId": "c4958745-8073-4755-a382-feacbaabfeef"
   },
   "outputs": [
    {
     "data": {
      "text/html": [
       "<div>\n",
       "<style scoped>\n",
       "    .dataframe tbody tr th:only-of-type {\n",
       "        vertical-align: middle;\n",
       "    }\n",
       "\n",
       "    .dataframe tbody tr th {\n",
       "        vertical-align: top;\n",
       "    }\n",
       "\n",
       "    .dataframe thead th {\n",
       "        text-align: right;\n",
       "    }\n",
       "</style>\n",
       "<table border=\"1\" class=\"dataframe\">\n",
       "  <thead>\n",
       "    <tr style=\"text-align: right;\">\n",
       "      <th></th>\n",
       "      <th>Title</th>\n",
       "      <th>Questions</th>\n",
       "      <th>Tags</th>\n",
       "      <th>Answers</th>\n",
       "      <th>Answers given by</th>\n",
       "      <th>Questions asked by</th>\n",
       "      <th>Estimate_Time</th>\n",
       "    </tr>\n",
       "  </thead>\n",
       "  <tbody>\n",
       "    <tr>\n",
       "      <th>0</th>\n",
       "      <td>asp_net site maps</td>\n",
       "      <td>has anyone got experience creating sql_based a...</td>\n",
       "      <td>sql</td>\n",
       "      <td>the jeff prosise version from msdn magazine wo...</td>\n",
       "      <td>Kelly Adams</td>\n",
       "      <td>Zack Peterson</td>\n",
       "      <td>53 days 06:51:03</td>\n",
       "    </tr>\n",
       "    <tr>\n",
       "      <th>1</th>\n",
       "      <td>what language do you use for postgresql trigge...</td>\n",
       "      <td>postgresql is interesting in that it supports ...</td>\n",
       "      <td>sql</td>\n",
       "      <td>when i wrote my first trigger it was in perl b...</td>\n",
       "      <td>sparkes</td>\n",
       "      <td>Mark Harrison</td>\n",
       "      <td>0 days 00:03:59</td>\n",
       "    </tr>\n",
       "    <tr>\n",
       "      <th>2</th>\n",
       "      <td>what language do you use for postgresql trigge...</td>\n",
       "      <td>postgresql is interesting in that it supports ...</td>\n",
       "      <td>sql</td>\n",
       "      <td>i have only really used pl_pgsql_ but that was...</td>\n",
       "      <td>kaybenleroll</td>\n",
       "      <td>Mark Harrison</td>\n",
       "      <td>1 days 07:46:37</td>\n",
       "    </tr>\n",
       "    <tr>\n",
       "      <th>3</th>\n",
       "      <td>what language do you use for postgresql trigge...</td>\n",
       "      <td>postgresql is interesting in that it supports ...</td>\n",
       "      <td>sql</td>\n",
       "      <td>skype uses postgresql together with python_ an...</td>\n",
       "      <td>dpavlin</td>\n",
       "      <td>Mark Harrison</td>\n",
       "      <td>38 days 09:00:08</td>\n",
       "    </tr>\n",
       "    <tr>\n",
       "      <th>4</th>\n",
       "      <td>what language do you use for postgresql trigge...</td>\n",
       "      <td>postgresql is interesting in that it supports ...</td>\n",
       "      <td>sql</td>\n",
       "      <td>i write pretty much everything in plpgsql_ but...</td>\n",
       "      <td>decibel</td>\n",
       "      <td>Mark Harrison</td>\n",
       "      <td>41 days 23:03:51</td>\n",
       "    </tr>\n",
       "  </tbody>\n",
       "</table>\n",
       "</div>"
      ],
      "text/plain": [
       "                                               Title  ...    Estimate_Time\n",
       "0                                  asp_net site maps  ... 53 days 06:51:03\n",
       "1  what language do you use for postgresql trigge...  ...  0 days 00:03:59\n",
       "2  what language do you use for postgresql trigge...  ...  1 days 07:46:37\n",
       "3  what language do you use for postgresql trigge...  ... 38 days 09:00:08\n",
       "4  what language do you use for postgresql trigge...  ... 41 days 23:03:51\n",
       "\n",
       "[5 rows x 7 columns]"
      ]
     },
     "execution_count": 95,
     "metadata": {
      "tags": []
     },
     "output_type": "execute_result"
    }
   ],
   "source": [
    "Dataset.head()"
   ]
  },
  {
   "cell_type": "code",
   "execution_count": 126,
   "metadata": {
    "id": "C4fXvGw50Y5P"
   },
   "outputs": [],
   "source": [
    "Obj1 = pd.pivot_table(Dataset, values =['Answers given by'],index=[\"Tags\"],aggfunc=lambda x: ', '.join(x))\n"
   ]
  },
  {
   "cell_type": "code",
   "execution_count": 127,
   "metadata": {
    "colab": {
     "base_uri": "https://localhost:8080/",
     "height": 787
    },
    "id": "StkQNR-P4rf7",
    "outputId": "c0cd4d6d-0c6b-4206-b6c6-62bfd728bc16"
   },
   "outputs": [
    {
     "data": {
      "text/html": [
       "<div>\n",
       "<style scoped>\n",
       "    .dataframe tbody tr th:only-of-type {\n",
       "        vertical-align: middle;\n",
       "    }\n",
       "\n",
       "    .dataframe tbody tr th {\n",
       "        vertical-align: top;\n",
       "    }\n",
       "\n",
       "    .dataframe thead th {\n",
       "        text-align: right;\n",
       "    }\n",
       "</style>\n",
       "<table border=\"1\" class=\"dataframe\">\n",
       "  <thead>\n",
       "    <tr style=\"text-align: right;\">\n",
       "      <th></th>\n",
       "      <th>Answers given by</th>\n",
       "    </tr>\n",
       "    <tr>\n",
       "      <th>Tags</th>\n",
       "      <th></th>\n",
       "    </tr>\n",
       "  </thead>\n",
       "  <tbody>\n",
       "    <tr>\n",
       "      <th>excel</th>\n",
       "      <td>gserg, jeffo, adarsha, michael mrozek, msmucke...</td>\n",
       "    </tr>\n",
       "    <tr>\n",
       "      <th>excel matlab</th>\n",
       "      <td>amro, user2991243, daniel pereira, amro, buzjw...</td>\n",
       "    </tr>\n",
       "    <tr>\n",
       "      <th>excel sas</th>\n",
       "      <td>allan bowe, zach, chang chung, martin bã_â_gel...</td>\n",
       "    </tr>\n",
       "    <tr>\n",
       "      <th>matlab</th>\n",
       "      <td>kostas, gbn, jonas, jonas, jonas, mark elliot,...</td>\n",
       "    </tr>\n",
       "    <tr>\n",
       "      <th>python</th>\n",
       "      <td>ignacio vazquez_abrams, alex martelli, john la...</td>\n",
       "    </tr>\n",
       "    <tr>\n",
       "      <th>python excel</th>\n",
       "      <td>s_lott, kylotan, rossfabricant, jeff youel, un...</td>\n",
       "    </tr>\n",
       "    <tr>\n",
       "      <th>python excel r</th>\n",
       "      <td>hansi</td>\n",
       "    </tr>\n",
       "    <tr>\n",
       "      <th>python matlab</th>\n",
       "      <td>dzhelil, robert karl, tom10, peter, pv_, smart...</td>\n",
       "    </tr>\n",
       "    <tr>\n",
       "      <th>python r</th>\n",
       "      <td>john, joshua ulrich, vincent zoonekynd, parfai...</td>\n",
       "    </tr>\n",
       "    <tr>\n",
       "      <th>python r excel</th>\n",
       "      <td>hrbrmstr, rusan kax, fredrikhedman</td>\n",
       "    </tr>\n",
       "    <tr>\n",
       "      <th>python r matlab</th>\n",
       "      <td>dennis jaheruddin, hong ooi, kevin corcoran</td>\n",
       "    </tr>\n",
       "    <tr>\n",
       "      <th>python sas</th>\n",
       "      <td>ct zhu</td>\n",
       "    </tr>\n",
       "    <tr>\n",
       "      <th>python sql</th>\n",
       "      <td>gordon linoff, nick_mcdermaid, foolishseth, da...</td>\n",
       "    </tr>\n",
       "    <tr>\n",
       "      <th>r</th>\n",
       "      <td>erasmortg, jlhoward, andrew noyes, thomas, vin...</td>\n",
       "    </tr>\n",
       "    <tr>\n",
       "      <th>r excel</th>\n",
       "      <td>dimitris_ps, skan, zx8754, arturro, digemall, ...</td>\n",
       "    </tr>\n",
       "    <tr>\n",
       "      <th>r matlab</th>\n",
       "      <td>drenerbas, henrik, greg snow, jon, 42_, ben bo...</td>\n",
       "    </tr>\n",
       "    <tr>\n",
       "      <th>r python</th>\n",
       "      <td>ricky robinson</td>\n",
       "    </tr>\n",
       "    <tr>\n",
       "      <th>r sas</th>\n",
       "      <td>aaron, aaron, triad sou_, joe, giorgio ta, 42_...</td>\n",
       "    </tr>\n",
       "    <tr>\n",
       "      <th>sas</th>\n",
       "      <td>joe, sparc_spread, allan bowe, allan bowe, ada...</td>\n",
       "    </tr>\n",
       "    <tr>\n",
       "      <th>sql</th>\n",
       "      <td>kelly adams, sparkes, kaybenleroll, dpavlin, d...</td>\n",
       "    </tr>\n",
       "    <tr>\n",
       "      <th>sql excel</th>\n",
       "      <td>raj more, daniel allen langdon, garett, ben ro...</td>\n",
       "    </tr>\n",
       "    <tr>\n",
       "      <th>sql excel matlab</th>\n",
       "      <td>oleg</td>\n",
       "    </tr>\n",
       "    <tr>\n",
       "      <th>sql r</th>\n",
       "      <td>jeganinfo, chase, nick sabbe, joran, mark monn...</td>\n",
       "    </tr>\n",
       "    <tr>\n",
       "      <th>sql sas</th>\n",
       "      <td>cade roux, robert penridge, robert penridge, w...</td>\n",
       "    </tr>\n",
       "  </tbody>\n",
       "</table>\n",
       "</div>"
      ],
      "text/plain": [
       "                                                   Answers given by\n",
       "Tags                                                               \n",
       "excel             gserg, jeffo, adarsha, michael mrozek, msmucke...\n",
       "excel matlab      amro, user2991243, daniel pereira, amro, buzjw...\n",
       "excel sas         allan bowe, zach, chang chung, martin bã_â_gel...\n",
       "matlab            kostas, gbn, jonas, jonas, jonas, mark elliot,...\n",
       "python            ignacio vazquez_abrams, alex martelli, john la...\n",
       "python excel      s_lott, kylotan, rossfabricant, jeff youel, un...\n",
       "python excel r                                                hansi\n",
       "python matlab     dzhelil, robert karl, tom10, peter, pv_, smart...\n",
       "python r          john, joshua ulrich, vincent zoonekynd, parfai...\n",
       "python r excel                   hrbrmstr, rusan kax, fredrikhedman\n",
       "python r matlab         dennis jaheruddin, hong ooi, kevin corcoran\n",
       "python sas                                                   ct zhu\n",
       "python sql        gordon linoff, nick_mcdermaid, foolishseth, da...\n",
       "r                 erasmortg, jlhoward, andrew noyes, thomas, vin...\n",
       "r excel           dimitris_ps, skan, zx8754, arturro, digemall, ...\n",
       "r matlab          drenerbas, henrik, greg snow, jon, 42_, ben bo...\n",
       "r python                                             ricky robinson\n",
       "r sas             aaron, aaron, triad sou_, joe, giorgio ta, 42_...\n",
       "sas               joe, sparc_spread, allan bowe, allan bowe, ada...\n",
       "sql               kelly adams, sparkes, kaybenleroll, dpavlin, d...\n",
       "sql excel         raj more, daniel allen langdon, garett, ben ro...\n",
       "sql excel matlab                                               oleg\n",
       "sql r             jeganinfo, chase, nick sabbe, joran, mark monn...\n",
       "sql sas           cade roux, robert penridge, robert penridge, w..."
      ]
     },
     "execution_count": 127,
     "metadata": {
      "tags": []
     },
     "output_type": "execute_result"
    }
   ],
   "source": [
    "Obj1"
   ]
  },
  {
   "cell_type": "code",
   "execution_count": 130,
   "metadata": {
    "colab": {
     "base_uri": "https://localhost:8080/"
    },
    "id": "whd6BUK-9a3-",
    "outputId": "c54ab107-87a6-4aff-b71a-df5d3b3f103e"
   },
   "outputs": [
    {
     "name": "stdout",
     "output_type": "stream",
     "text": [
      "<class 'pandas.core.frame.DataFrame'>\n",
      "Int64Index: 95041 entries, 0 to 95053\n",
      "Data columns (total 7 columns):\n",
      " #   Column              Non-Null Count  Dtype          \n",
      "---  ------              --------------  -----          \n",
      " 0   Title               95041 non-null  object         \n",
      " 1   Questions           95041 non-null  object         \n",
      " 2   Tags                95041 non-null  object         \n",
      " 3   Answers             95041 non-null  object         \n",
      " 4   Answers given by    95041 non-null  object         \n",
      " 5   Questions asked by  95041 non-null  object         \n",
      " 6   Estimate_Time       95041 non-null  timedelta64[ns]\n",
      "dtypes: object(6), timedelta64[ns](1)\n",
      "memory usage: 8.3+ MB\n"
     ]
    }
   ],
   "source": [
    "Dataset.info()"
   ]
  },
  {
   "cell_type": "code",
   "execution_count": 158,
   "metadata": {
    "id": "uXO71k1H9I2q"
   },
   "outputs": [],
   "source": []
  },
  {
   "cell_type": "code",
   "execution_count": 149,
   "metadata": {
    "id": "hO_0IYlv9OFO"
   },
   "outputs": [],
   "source": [
    "Dataset['Time_in_sec'] = Dataset['Estimate_Time'].dt.total_seconds()\n"
   ]
  },
  {
   "cell_type": "code",
   "execution_count": 155,
   "metadata": {
    "colab": {
     "base_uri": "https://localhost:8080/",
     "height": 296
    },
    "id": "4zC-3loD94oM",
    "outputId": "f5c781d2-1196-4413-c602-c0d03bd01116"
   },
   "outputs": [
    {
     "data": {
      "text/html": [
       "<div>\n",
       "<style scoped>\n",
       "    .dataframe tbody tr th:only-of-type {\n",
       "        vertical-align: middle;\n",
       "    }\n",
       "\n",
       "    .dataframe tbody tr th {\n",
       "        vertical-align: top;\n",
       "    }\n",
       "\n",
       "    .dataframe thead th {\n",
       "        text-align: right;\n",
       "    }\n",
       "</style>\n",
       "<table border=\"1\" class=\"dataframe\">\n",
       "  <thead>\n",
       "    <tr style=\"text-align: right;\">\n",
       "      <th></th>\n",
       "      <th>Title</th>\n",
       "      <th>Questions</th>\n",
       "      <th>Tags</th>\n",
       "      <th>Answers</th>\n",
       "      <th>Answers given by</th>\n",
       "      <th>Questions asked by</th>\n",
       "      <th>Estimate_Time</th>\n",
       "      <th>Time_in_sec</th>\n",
       "    </tr>\n",
       "  </thead>\n",
       "  <tbody>\n",
       "    <tr>\n",
       "      <th>0</th>\n",
       "      <td>asp_net site maps</td>\n",
       "      <td>has anyone got experience creating sql_based a...</td>\n",
       "      <td>sql</td>\n",
       "      <td>the jeff prosise version from msdn magazine wo...</td>\n",
       "      <td>kelly adams</td>\n",
       "      <td>Zack Peterson</td>\n",
       "      <td>53 days 06:51:03</td>\n",
       "      <td>4603863.0</td>\n",
       "    </tr>\n",
       "    <tr>\n",
       "      <th>1</th>\n",
       "      <td>what language do you use for postgresql trigge...</td>\n",
       "      <td>postgresql is interesting in that it supports ...</td>\n",
       "      <td>sql</td>\n",
       "      <td>when i wrote my first trigger it was in perl b...</td>\n",
       "      <td>sparkes</td>\n",
       "      <td>Mark Harrison</td>\n",
       "      <td>0 days 00:03:59</td>\n",
       "      <td>239.0</td>\n",
       "    </tr>\n",
       "    <tr>\n",
       "      <th>2</th>\n",
       "      <td>what language do you use for postgresql trigge...</td>\n",
       "      <td>postgresql is interesting in that it supports ...</td>\n",
       "      <td>sql</td>\n",
       "      <td>i have only really used pl_pgsql_ but that was...</td>\n",
       "      <td>kaybenleroll</td>\n",
       "      <td>Mark Harrison</td>\n",
       "      <td>1 days 07:46:37</td>\n",
       "      <td>114397.0</td>\n",
       "    </tr>\n",
       "    <tr>\n",
       "      <th>3</th>\n",
       "      <td>what language do you use for postgresql trigge...</td>\n",
       "      <td>postgresql is interesting in that it supports ...</td>\n",
       "      <td>sql</td>\n",
       "      <td>skype uses postgresql together with python_ an...</td>\n",
       "      <td>dpavlin</td>\n",
       "      <td>Mark Harrison</td>\n",
       "      <td>38 days 09:00:08</td>\n",
       "      <td>3315608.0</td>\n",
       "    </tr>\n",
       "    <tr>\n",
       "      <th>4</th>\n",
       "      <td>what language do you use for postgresql trigge...</td>\n",
       "      <td>postgresql is interesting in that it supports ...</td>\n",
       "      <td>sql</td>\n",
       "      <td>i write pretty much everything in plpgsql_ but...</td>\n",
       "      <td>decibel</td>\n",
       "      <td>Mark Harrison</td>\n",
       "      <td>41 days 23:03:51</td>\n",
       "      <td>3625431.0</td>\n",
       "    </tr>\n",
       "  </tbody>\n",
       "</table>\n",
       "</div>"
      ],
      "text/plain": [
       "                                               Title  ... Time_in_sec\n",
       "0                                  asp_net site maps  ...   4603863.0\n",
       "1  what language do you use for postgresql trigge...  ...       239.0\n",
       "2  what language do you use for postgresql trigge...  ...    114397.0\n",
       "3  what language do you use for postgresql trigge...  ...   3315608.0\n",
       "4  what language do you use for postgresql trigge...  ...   3625431.0\n",
       "\n",
       "[5 rows x 8 columns]"
      ]
     },
     "execution_count": 155,
     "metadata": {
      "tags": []
     },
     "output_type": "execute_result"
    }
   ],
   "source": [
    "Dataset.head()"
   ]
  },
  {
   "cell_type": "code",
   "execution_count": 154,
   "metadata": {
    "id": "KHiCumxTD2PV"
   },
   "outputs": [],
   "source": []
  },
  {
   "cell_type": "code",
   "execution_count": 157,
   "metadata": {
    "id": "HiU-8UEPEeKt"
   },
   "outputs": [],
   "source": [
    "Obj2 = pd.pivot_table(Dataset, values =['Time_in_sec'],index=[\"Tags\"],aggfunc=np.median, fill_value=pd.Timedelta(hours=0),\n",
    "                      margins=True,margins_name=\"TOTAL\")\n"
   ]
  },
  {
   "cell_type": "code",
   "execution_count": 158,
   "metadata": {
    "colab": {
     "base_uri": "https://localhost:8080/",
     "height": 817
    },
    "id": "CDpJJb5EEuOX",
    "outputId": "9a207de3-c6ee-48ed-d761-99ee0fe57e45"
   },
   "outputs": [
    {
     "data": {
      "text/html": [
       "<div>\n",
       "<style scoped>\n",
       "    .dataframe tbody tr th:only-of-type {\n",
       "        vertical-align: middle;\n",
       "    }\n",
       "\n",
       "    .dataframe tbody tr th {\n",
       "        vertical-align: top;\n",
       "    }\n",
       "\n",
       "    .dataframe thead th {\n",
       "        text-align: right;\n",
       "    }\n",
       "</style>\n",
       "<table border=\"1\" class=\"dataframe\">\n",
       "  <thead>\n",
       "    <tr style=\"text-align: right;\">\n",
       "      <th></th>\n",
       "      <th>Time_in_sec</th>\n",
       "    </tr>\n",
       "    <tr>\n",
       "      <th>Tags</th>\n",
       "      <th></th>\n",
       "    </tr>\n",
       "  </thead>\n",
       "  <tbody>\n",
       "    <tr>\n",
       "      <th>excel</th>\n",
       "      <td>5423.0</td>\n",
       "    </tr>\n",
       "    <tr>\n",
       "      <th>excel matlab</th>\n",
       "      <td>12257.0</td>\n",
       "    </tr>\n",
       "    <tr>\n",
       "      <th>excel sas</th>\n",
       "      <td>1183884.5</td>\n",
       "    </tr>\n",
       "    <tr>\n",
       "      <th>matlab</th>\n",
       "      <td>4462.0</td>\n",
       "    </tr>\n",
       "    <tr>\n",
       "      <th>python</th>\n",
       "      <td>2530.0</td>\n",
       "    </tr>\n",
       "    <tr>\n",
       "      <th>python excel</th>\n",
       "      <td>6905.0</td>\n",
       "    </tr>\n",
       "    <tr>\n",
       "      <th>python excel r</th>\n",
       "      <td>7832.0</td>\n",
       "    </tr>\n",
       "    <tr>\n",
       "      <th>python matlab</th>\n",
       "      <td>3973.5</td>\n",
       "    </tr>\n",
       "    <tr>\n",
       "      <th>python r</th>\n",
       "      <td>8594.0</td>\n",
       "    </tr>\n",
       "    <tr>\n",
       "      <th>python r excel</th>\n",
       "      <td>8036.0</td>\n",
       "    </tr>\n",
       "    <tr>\n",
       "      <th>python r matlab</th>\n",
       "      <td>17246.0</td>\n",
       "    </tr>\n",
       "    <tr>\n",
       "      <th>python sas</th>\n",
       "      <td>2263.0</td>\n",
       "    </tr>\n",
       "    <tr>\n",
       "      <th>python sql</th>\n",
       "      <td>3151.0</td>\n",
       "    </tr>\n",
       "    <tr>\n",
       "      <th>r</th>\n",
       "      <td>3757.0</td>\n",
       "    </tr>\n",
       "    <tr>\n",
       "      <th>r excel</th>\n",
       "      <td>3367.0</td>\n",
       "    </tr>\n",
       "    <tr>\n",
       "      <th>r matlab</th>\n",
       "      <td>12175.0</td>\n",
       "    </tr>\n",
       "    <tr>\n",
       "      <th>r python</th>\n",
       "      <td>72140.0</td>\n",
       "    </tr>\n",
       "    <tr>\n",
       "      <th>r sas</th>\n",
       "      <td>6302.0</td>\n",
       "    </tr>\n",
       "    <tr>\n",
       "      <th>sas</th>\n",
       "      <td>7821.0</td>\n",
       "    </tr>\n",
       "    <tr>\n",
       "      <th>sql</th>\n",
       "      <td>1047.0</td>\n",
       "    </tr>\n",
       "    <tr>\n",
       "      <th>sql excel</th>\n",
       "      <td>3448.0</td>\n",
       "    </tr>\n",
       "    <tr>\n",
       "      <th>sql excel matlab</th>\n",
       "      <td>3269.0</td>\n",
       "    </tr>\n",
       "    <tr>\n",
       "      <th>sql r</th>\n",
       "      <td>11243.5</td>\n",
       "    </tr>\n",
       "    <tr>\n",
       "      <th>sql sas</th>\n",
       "      <td>12851.0</td>\n",
       "    </tr>\n",
       "    <tr>\n",
       "      <th>TOTAL</th>\n",
       "      <td>2022.0</td>\n",
       "    </tr>\n",
       "  </tbody>\n",
       "</table>\n",
       "</div>"
      ],
      "text/plain": [
       "                  Time_in_sec\n",
       "Tags                         \n",
       "excel                  5423.0\n",
       "excel matlab          12257.0\n",
       "excel sas           1183884.5\n",
       "matlab                 4462.0\n",
       "python                 2530.0\n",
       "python excel           6905.0\n",
       "python excel r         7832.0\n",
       "python matlab          3973.5\n",
       "python r               8594.0\n",
       "python r excel         8036.0\n",
       "python r matlab       17246.0\n",
       "python sas             2263.0\n",
       "python sql             3151.0\n",
       "r                      3757.0\n",
       "r excel                3367.0\n",
       "r matlab              12175.0\n",
       "r python              72140.0\n",
       "r sas                  6302.0\n",
       "sas                    7821.0\n",
       "sql                    1047.0\n",
       "sql excel              3448.0\n",
       "sql excel matlab       3269.0\n",
       "sql r                 11243.5\n",
       "sql sas               12851.0\n",
       "TOTAL                  2022.0"
      ]
     },
     "execution_count": 158,
     "metadata": {
      "tags": []
     },
     "output_type": "execute_result"
    }
   ],
   "source": [
    "Obj2."
   ]
  },
  {
   "cell_type": "code",
   "execution_count": 163,
   "metadata": {
    "id": "L-acY2J6FKOl"
   },
   "outputs": [],
   "source": [
    "x = Obj1.merge(Obj2,left_index=True,right_index=True)"
   ]
  },
  {
   "cell_type": "code",
   "execution_count": 164,
   "metadata": {
    "colab": {
     "base_uri": "https://localhost:8080/",
     "height": 787
    },
    "id": "_V8pSLWjMP38",
    "outputId": "dbfab98b-675f-4454-971e-fbc07d901215"
   },
   "outputs": [
    {
     "data": {
      "text/html": [
       "<div>\n",
       "<style scoped>\n",
       "    .dataframe tbody tr th:only-of-type {\n",
       "        vertical-align: middle;\n",
       "    }\n",
       "\n",
       "    .dataframe tbody tr th {\n",
       "        vertical-align: top;\n",
       "    }\n",
       "\n",
       "    .dataframe thead th {\n",
       "        text-align: right;\n",
       "    }\n",
       "</style>\n",
       "<table border=\"1\" class=\"dataframe\">\n",
       "  <thead>\n",
       "    <tr style=\"text-align: right;\">\n",
       "      <th></th>\n",
       "      <th>Answers given by</th>\n",
       "      <th>Time_in_sec</th>\n",
       "    </tr>\n",
       "    <tr>\n",
       "      <th>Tags</th>\n",
       "      <th></th>\n",
       "      <th></th>\n",
       "    </tr>\n",
       "  </thead>\n",
       "  <tbody>\n",
       "    <tr>\n",
       "      <th>excel</th>\n",
       "      <td>gserg, jeffo, adarsha, michael mrozek, msmucke...</td>\n",
       "      <td>5423.0</td>\n",
       "    </tr>\n",
       "    <tr>\n",
       "      <th>excel matlab</th>\n",
       "      <td>amro, user2991243, daniel pereira, amro, buzjw...</td>\n",
       "      <td>12257.0</td>\n",
       "    </tr>\n",
       "    <tr>\n",
       "      <th>excel sas</th>\n",
       "      <td>allan bowe, zach, chang chung, martin bã_â_gel...</td>\n",
       "      <td>1183884.5</td>\n",
       "    </tr>\n",
       "    <tr>\n",
       "      <th>matlab</th>\n",
       "      <td>kostas, gbn, jonas, jonas, jonas, mark elliot,...</td>\n",
       "      <td>4462.0</td>\n",
       "    </tr>\n",
       "    <tr>\n",
       "      <th>python</th>\n",
       "      <td>ignacio vazquez_abrams, alex martelli, john la...</td>\n",
       "      <td>2530.0</td>\n",
       "    </tr>\n",
       "    <tr>\n",
       "      <th>python excel</th>\n",
       "      <td>s_lott, kylotan, rossfabricant, jeff youel, un...</td>\n",
       "      <td>6905.0</td>\n",
       "    </tr>\n",
       "    <tr>\n",
       "      <th>python excel r</th>\n",
       "      <td>hansi</td>\n",
       "      <td>7832.0</td>\n",
       "    </tr>\n",
       "    <tr>\n",
       "      <th>python matlab</th>\n",
       "      <td>dzhelil, robert karl, tom10, peter, pv_, smart...</td>\n",
       "      <td>3973.5</td>\n",
       "    </tr>\n",
       "    <tr>\n",
       "      <th>python r</th>\n",
       "      <td>john, joshua ulrich, vincent zoonekynd, parfai...</td>\n",
       "      <td>8594.0</td>\n",
       "    </tr>\n",
       "    <tr>\n",
       "      <th>python r excel</th>\n",
       "      <td>hrbrmstr, rusan kax, fredrikhedman</td>\n",
       "      <td>8036.0</td>\n",
       "    </tr>\n",
       "    <tr>\n",
       "      <th>python r matlab</th>\n",
       "      <td>dennis jaheruddin, hong ooi, kevin corcoran</td>\n",
       "      <td>17246.0</td>\n",
       "    </tr>\n",
       "    <tr>\n",
       "      <th>python sas</th>\n",
       "      <td>ct zhu</td>\n",
       "      <td>2263.0</td>\n",
       "    </tr>\n",
       "    <tr>\n",
       "      <th>python sql</th>\n",
       "      <td>gordon linoff, nick_mcdermaid, foolishseth, da...</td>\n",
       "      <td>3151.0</td>\n",
       "    </tr>\n",
       "    <tr>\n",
       "      <th>r</th>\n",
       "      <td>erasmortg, jlhoward, andrew noyes, thomas, vin...</td>\n",
       "      <td>3757.0</td>\n",
       "    </tr>\n",
       "    <tr>\n",
       "      <th>r excel</th>\n",
       "      <td>dimitris_ps, skan, zx8754, arturro, digemall, ...</td>\n",
       "      <td>3367.0</td>\n",
       "    </tr>\n",
       "    <tr>\n",
       "      <th>r matlab</th>\n",
       "      <td>drenerbas, henrik, greg snow, jon, 42_, ben bo...</td>\n",
       "      <td>12175.0</td>\n",
       "    </tr>\n",
       "    <tr>\n",
       "      <th>r python</th>\n",
       "      <td>ricky robinson</td>\n",
       "      <td>72140.0</td>\n",
       "    </tr>\n",
       "    <tr>\n",
       "      <th>r sas</th>\n",
       "      <td>aaron, aaron, triad sou_, joe, giorgio ta, 42_...</td>\n",
       "      <td>6302.0</td>\n",
       "    </tr>\n",
       "    <tr>\n",
       "      <th>sas</th>\n",
       "      <td>joe, sparc_spread, allan bowe, allan bowe, ada...</td>\n",
       "      <td>7821.0</td>\n",
       "    </tr>\n",
       "    <tr>\n",
       "      <th>sql</th>\n",
       "      <td>kelly adams, sparkes, kaybenleroll, dpavlin, d...</td>\n",
       "      <td>1047.0</td>\n",
       "    </tr>\n",
       "    <tr>\n",
       "      <th>sql excel</th>\n",
       "      <td>raj more, daniel allen langdon, garett, ben ro...</td>\n",
       "      <td>3448.0</td>\n",
       "    </tr>\n",
       "    <tr>\n",
       "      <th>sql excel matlab</th>\n",
       "      <td>oleg</td>\n",
       "      <td>3269.0</td>\n",
       "    </tr>\n",
       "    <tr>\n",
       "      <th>sql r</th>\n",
       "      <td>jeganinfo, chase, nick sabbe, joran, mark monn...</td>\n",
       "      <td>11243.5</td>\n",
       "    </tr>\n",
       "    <tr>\n",
       "      <th>sql sas</th>\n",
       "      <td>cade roux, robert penridge, robert penridge, w...</td>\n",
       "      <td>12851.0</td>\n",
       "    </tr>\n",
       "  </tbody>\n",
       "</table>\n",
       "</div>"
      ],
      "text/plain": [
       "                                                   Answers given by  Time_in_sec\n",
       "Tags                                                                            \n",
       "excel             gserg, jeffo, adarsha, michael mrozek, msmucke...       5423.0\n",
       "excel matlab      amro, user2991243, daniel pereira, amro, buzjw...      12257.0\n",
       "excel sas         allan bowe, zach, chang chung, martin bã_â_gel...    1183884.5\n",
       "matlab            kostas, gbn, jonas, jonas, jonas, mark elliot,...       4462.0\n",
       "python            ignacio vazquez_abrams, alex martelli, john la...       2530.0\n",
       "python excel      s_lott, kylotan, rossfabricant, jeff youel, un...       6905.0\n",
       "python excel r                                                hansi       7832.0\n",
       "python matlab     dzhelil, robert karl, tom10, peter, pv_, smart...       3973.5\n",
       "python r          john, joshua ulrich, vincent zoonekynd, parfai...       8594.0\n",
       "python r excel                   hrbrmstr, rusan kax, fredrikhedman       8036.0\n",
       "python r matlab         dennis jaheruddin, hong ooi, kevin corcoran      17246.0\n",
       "python sas                                                   ct zhu       2263.0\n",
       "python sql        gordon linoff, nick_mcdermaid, foolishseth, da...       3151.0\n",
       "r                 erasmortg, jlhoward, andrew noyes, thomas, vin...       3757.0\n",
       "r excel           dimitris_ps, skan, zx8754, arturro, digemall, ...       3367.0\n",
       "r matlab          drenerbas, henrik, greg snow, jon, 42_, ben bo...      12175.0\n",
       "r python                                             ricky robinson      72140.0\n",
       "r sas             aaron, aaron, triad sou_, joe, giorgio ta, 42_...       6302.0\n",
       "sas               joe, sparc_spread, allan bowe, allan bowe, ada...       7821.0\n",
       "sql               kelly adams, sparkes, kaybenleroll, dpavlin, d...       1047.0\n",
       "sql excel         raj more, daniel allen langdon, garett, ben ro...       3448.0\n",
       "sql excel matlab                                               oleg       3269.0\n",
       "sql r             jeganinfo, chase, nick sabbe, joran, mark monn...      11243.5\n",
       "sql sas           cade roux, robert penridge, robert penridge, w...      12851.0"
      ]
     },
     "execution_count": 164,
     "metadata": {
      "tags": []
     },
     "output_type": "execute_result"
    }
   ],
   "source": [
    "x\n"
   ]
  },
  {
   "cell_type": "code",
   "execution_count": 166,
   "metadata": {
    "id": "eMDxpmEFMmc9"
   },
   "outputs": [],
   "source": [
    "x.to_excel(\"filename.xlsx\")\n"
   ]
  },
  {
   "cell_type": "code",
   "execution_count": null,
   "metadata": {
    "id": "XEKpPeu2NSRZ"
   },
   "outputs": [],
   "source": []
  }
 ],
 "metadata": {
  "colab": {
   "collapsed_sections": [],
   "name": "StackOverflow.ipynb",
   "provenance": []
  },
  "kernelspec": {
   "display_name": "Python 3",
   "language": "python",
   "name": "python3"
  },
  "language_info": {
   "codemirror_mode": {
    "name": "ipython",
    "version": 3
   },
   "file_extension": ".py",
   "mimetype": "text/x-python",
   "name": "python",
   "nbconvert_exporter": "python",
   "pygments_lexer": "ipython3",
   "version": "3.8.5"
  }
 },
 "nbformat": 4,
 "nbformat_minor": 1
}
